{
 "cells": [
  {
   "cell_type": "code",
   "execution_count": 10,
   "metadata": {},
   "outputs": [],
   "source": [
    "from IPython.display import display, Math\n",
    "import numpy as np"
   ]
  },
  {
   "cell_type": "code",
   "execution_count": 11,
   "metadata": {},
   "outputs": [
    {
     "data": {
      "text/plain": [
       "'testtesttest'"
      ]
     },
     "execution_count": 11,
     "metadata": {},
     "output_type": "execute_result"
    }
   ],
   "source": [
    "#data types\n",
    "\n",
    "a = 'test'\n",
    "\n",
    "a * 3"
   ]
  },
  {
   "cell_type": "code",
   "execution_count": 12,
   "metadata": {},
   "outputs": [
    {
     "name": "stdout",
     "output_type": "stream",
     "text": [
      "Variable   Type        Data/Info\n",
      "--------------------------------\n",
      "Math       type        <class 'IPython.core.display.Math'>\n",
      "a          str         test\n",
      "display    function    <function display at 0x000001C82B2251C0>\n",
      "np         module      <module 'numpy' from 'C:\\<...>ges\\\\numpy\\\\__init__.py'>\n"
     ]
    }
   ],
   "source": [
    "%whos"
   ]
  },
  {
   "cell_type": "code",
   "execution_count": 18,
   "metadata": {},
   "outputs": [
    {
     "data": {
      "text/plain": [
       "[0, 1, 2, 3, 4, 5, 0, 1, 2, 3, 4, 5, 0, 1, 2, 3, 4, 5]"
      ]
     },
     "execution_count": 18,
     "metadata": {},
     "output_type": "execute_result"
    }
   ],
   "source": [
    "#list vs numpy arrays\n",
    "\n",
    "#list\n",
    "aList = [0,1,2,3,4,5]\n",
    "\n",
    "listList = [\n",
    "        3,          #comment\n",
    "        [3,4,5],    #comment\n",
    "        5.5,        #comment\n",
    "        [4,5,6]     #comment\n",
    "]\n",
    "\n",
    "sList = ['0','1','2','3','4','5']\n",
    "\n",
    "\n",
    "aList + sList \n",
    "aList * 3\n"
   ]
  },
  {
   "cell_type": "code",
   "execution_count": 24,
   "metadata": {},
   "outputs": [
    {
     "name": "stdout",
     "output_type": "stream",
     "text": [
      "<class 'list'>\n",
      "<class 'numpy.ndarray'>\n",
      "[0 1 2 3 4 5]\n"
     ]
    },
    {
     "data": {
      "text/plain": [
       "array([ 0,  3,  6,  9, 12, 15])"
      ]
     },
     "execution_count": 24,
     "metadata": {},
     "output_type": "execute_result"
    }
   ],
   "source": [
    "aList_np = np.array(aList)\n",
    "\n",
    "print(type(aList))\n",
    "print(type(aList_np))\n",
    "\n",
    "\n",
    "print(aList_np)\n",
    "\n",
    "aList_np * 3"
   ]
  },
  {
   "cell_type": "code",
   "execution_count": 80,
   "metadata": {},
   "outputs": [
    {
     "name": "stdout",
     "output_type": "stream",
     "text": [
      "List element 0 is 3 and is of type int.\n",
      "List element 1 is [3, 4, 5] and is of type list.\n",
      "List element 2 is 5.5 and is of type float.\n",
      "List element 3 is [4, 5, 6] and is of type list.\n"
     ]
    }
   ],
   "source": [
    "listList = [\n",
    "        3,          #comment\n",
    "        [3,4,5],    #comment\n",
    "        5.5,        #comment\n",
    "        [4,5,6]     #comment\n",
    "]\n",
    "\n",
    "#List element 0 is 3 and is of type int.\n",
    "\n",
    "for i in listList:\n",
    "    list_type = str(type(i))\n",
    "    out = 'List element %g is %s and is of type %s.' %(listList.index(i),i, list_type[8:-2])\n",
    "    print(out)"
   ]
  },
  {
   "cell_type": "code",
   "execution_count": 65,
   "metadata": {},
   "outputs": [
    {
     "name": "stdout",
     "output_type": "stream",
     "text": [
      "0 k\n",
      "1 e\n",
      "2 n\n",
      "3 n\n",
      "4 e\n",
      "5 t\n",
      "6 h\n"
     ]
    }
   ],
   "source": [
    "s = 'kenneth'\n",
    "\n",
    "for i,letter in enumerate(s):\n",
    "    print(i,letter)\n"
   ]
  },
  {
   "cell_type": "code",
   "execution_count": 68,
   "metadata": {},
   "outputs": [
    {
     "name": "stdout",
     "output_type": "stream",
     "text": [
      "[(0, 'eat'), (1, 'sleep'), (2, 'repeat')]\n"
     ]
    }
   ],
   "source": [
    "l1 = [\"eat\", \"sleep\", \"repeat\"]\n",
    "\n",
    "obj1 = enumerate(l1)\n",
    "\n",
    "print(list(obj1))"
   ]
  },
  {
   "cell_type": "code",
   "execution_count": 69,
   "metadata": {},
   "outputs": [
    {
     "data": {
      "text/plain": [
       "('test', 'test2', 'test3')"
      ]
     },
     "execution_count": 69,
     "metadata": {},
     "output_type": "execute_result"
    }
   ],
   "source": [
    "mytuple = (\"test\",\"test2\",\"test3\")\n",
    "\n",
    "mytuple"
   ]
  }
 ],
 "metadata": {
  "kernelspec": {
   "display_name": "Python 3",
   "language": "python",
   "name": "python3"
  },
  "language_info": {
   "codemirror_mode": {
    "name": "ipython",
    "version": 3
   },
   "file_extension": ".py",
   "mimetype": "text/x-python",
   "name": "python",
   "nbconvert_exporter": "python",
   "pygments_lexer": "ipython3",
   "version": "3.11.9"
  }
 },
 "nbformat": 4,
 "nbformat_minor": 2
}
