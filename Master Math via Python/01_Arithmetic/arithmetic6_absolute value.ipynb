{
 "cells": [
  {
   "cell_type": "code",
   "execution_count": 2,
   "metadata": {},
   "outputs": [],
   "source": [
    "from IPython.display import display, Math"
   ]
  },
  {
   "cell_type": "code",
   "execution_count": 7,
   "metadata": {},
   "outputs": [
    {
     "data": {
      "text/latex": [
       "$\\displaystyle |-4| = 4$"
      ],
      "text/plain": [
       "<IPython.core.display.Math object>"
      ]
     },
     "metadata": {},
     "output_type": "display_data"
    }
   ],
   "source": [
    "val = -4\n",
    "out = abs(val)\n",
    "\n",
    "display(Math('|%g| = %g'%(val,out)) )"
   ]
  },
  {
   "cell_type": "code",
   "execution_count": 22,
   "metadata": {},
   "outputs": [
    {
     "name": "stdout",
     "output_type": "stream",
     "text": [
      "-4  was not tested.\n",
      "Absolute value of  6 is  6\n",
      "-1  was not tested.\n",
      "Absolute value of  43 is  43\n",
      "Absolute value of  -18 is  18\n",
      "2  was not tested.\n",
      "0  was not tested.\n"
     ]
    }
   ],
   "source": [
    "#print the absolute value of each of a set of numbers only if\n",
    "#each number is <-5 or >2\n",
    "\n",
    "#number set: -4, 6, -1, 43, -18, 2, 0\n",
    "\n",
    "#output: \n",
    "#-4 was not tested. \n",
    "# Absolute value of 6 is 6.\n",
    "\n",
    "exmpl_set = [-4, 6, -1, 43, -18, 2, 0]# [] is a list!, if for-looped, it will follow each line, {} is a set! it will arrange?\n",
    "\n",
    "for i in exmpl_set:\n",
    "    if i < -5 or i > 2:\n",
    "        comp_abs = abs(i)\n",
    "        print('Absolute value of ',str(i),'is ',comp_abs)\n",
    "    else:\n",
    "        print(i,' was not tested.')\n",
    "\n"
   ]
  }
 ],
 "metadata": {
  "kernelspec": {
   "display_name": "Python 3",
   "language": "python",
   "name": "python3"
  },
  "language_info": {
   "codemirror_mode": {
    "name": "ipython",
    "version": 3
   },
   "file_extension": ".py",
   "mimetype": "text/x-python",
   "name": "python",
   "nbconvert_exporter": "python",
   "pygments_lexer": "ipython3",
   "version": "3.11.9"
  }
 },
 "nbformat": 4,
 "nbformat_minor": 2
}
