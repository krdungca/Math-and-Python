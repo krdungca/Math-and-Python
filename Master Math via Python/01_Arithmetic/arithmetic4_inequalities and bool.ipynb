{
 "cells": [
  {
   "cell_type": "code",
   "execution_count": 1,
   "metadata": {},
   "outputs": [],
   "source": [
    "from IPython.display import display, Math"
   ]
  },
  {
   "cell_type": "code",
   "execution_count": 12,
   "metadata": {},
   "outputs": [
    {
     "name": "stdout",
     "output_type": "stream",
     "text": [
      "False\n"
     ]
    }
   ],
   "source": [
    "b = 10 < 3*3\n",
    "\n",
    "print(b)"
   ]
  },
  {
   "cell_type": "code",
   "execution_count": 16,
   "metadata": {},
   "outputs": [
    {
     "data": {
      "text/plain": [
       "False"
      ]
     },
     "execution_count": 16,
     "metadata": {},
     "output_type": "execute_result"
    }
   ],
   "source": [
    "a= 4 == 2*3\n",
    "a"
   ]
  },
  {
   "cell_type": "code",
   "execution_count": 65,
   "metadata": {},
   "outputs": [
    {
     "data": {
      "text/latex": [
       "$\\displaystyle If x = 2, then \\, 4^x + 3 \\leq 17 - x^2 will \\, be \\, 14 \\leq 36 \\,which \\,is \\,$"
      ],
      "text/plain": [
       "<IPython.core.display.Math object>"
      ]
     },
     "metadata": {},
     "output_type": "display_data"
    },
    {
     "name": "stdout",
     "output_type": "stream",
     "text": [
      "True\n"
     ]
    },
    {
     "data": {
      "text/latex": [
       "$\\displaystyle If x = 3, then \\, 4^x + 3 \\leq 17 - x^2 will \\, be \\, 22 \\leq 33 \\,which \\,is \\,$"
      ],
      "text/plain": [
       "<IPython.core.display.Math object>"
      ]
     },
     "metadata": {},
     "output_type": "display_data"
    },
    {
     "name": "stdout",
     "output_type": "stream",
     "text": [
      "True\n"
     ]
    },
    {
     "data": {
      "text/latex": [
       "$\\displaystyle If x = 4, then \\, 4^x + 3 \\leq 17 - x^2 will \\, be \\, 30 \\leq 30 \\,which \\,is \\,$"
      ],
      "text/plain": [
       "<IPython.core.display.Math object>"
      ]
     },
     "metadata": {},
     "output_type": "display_data"
    },
    {
     "name": "stdout",
     "output_type": "stream",
     "text": [
      "True\n"
     ]
    }
   ],
   "source": [
    "#Exercise\n",
    "\n",
    "# 1. 4x+3 < 17-x**2\n",
    "# 2. 8x - 2 <= -3x + 42\n",
    "\n",
    "\n",
    "\n",
    " \n",
    "# #equation 1\n",
    "# for i in x:\n",
    "#     eval_L = 4*i + 3\n",
    "#     eval_R = 17-i**2\n",
    "#     checker = 4*i + 3 < 17-i**2\n",
    "\n",
    "#     renew_disp = display(Math('If x = %g, then \\, 4^x + 3 < 17 - x^2 will \\, be \\, %g < %g \\,which \\,is \\,' %(i,eval_L,eval_R) ))\n",
    "#     print(checker)\n",
    "\n",
    "\n",
    "#quation 2\n",
    "x = {2,3,4}\n",
    "for i in x:\n",
    "    eval_L = (8*i)-2\n",
    "    eval_R = -3*i + 42\n",
    "    checker = (8*i)-2 <= -3*i + 42\n",
    "\n",
    "    renew_disp = display(Math('If x = %g, then \\, 4^x + 3 \\leq 17 - x^2 will \\, be \\, %g \\leq %g \\,which \\,is \\,' %(i,eval_L,eval_R) ))\n",
    "    print(checker)\n",
    "\n"
   ]
  }
 ],
 "metadata": {
  "kernelspec": {
   "display_name": "Python 3",
   "language": "python",
   "name": "python3"
  },
  "language_info": {
   "codemirror_mode": {
    "name": "ipython",
    "version": 3
   },
   "file_extension": ".py",
   "mimetype": "text/x-python",
   "name": "python",
   "nbconvert_exporter": "python",
   "pygments_lexer": "ipython3",
   "version": "3.11.9"
  }
 },
 "nbformat": 4,
 "nbformat_minor": 2
}
