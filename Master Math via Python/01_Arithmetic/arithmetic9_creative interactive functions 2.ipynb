{
 "cells": [
  {
   "cell_type": "code",
   "execution_count": 1,
   "metadata": {},
   "outputs": [],
   "source": [
    "from IPython.display import display, Math"
   ]
  },
  {
   "cell_type": "code",
   "execution_count": 35,
   "metadata": {},
   "outputs": [
    {
     "data": {
      "text/latex": [
       "$\\displaystyle \\text{Press \"1\" to compute } 123^{-45} \\text{ or press \"2\" if } \\frac{123}{-45}$"
      ],
      "text/plain": [
       "<IPython.core.display.Math object>"
      ]
     },
     "metadata": {},
     "output_type": "display_data"
    },
    {
     "data": {
      "text/latex": [
       "$\\displaystyle 123^{-45} = 9.00057e-95$"
      ],
      "text/plain": [
       "<IPython.core.display.Math object>"
      ]
     },
     "metadata": {},
     "output_type": "display_data"
    }
   ],
   "source": [
    "#create 2 functions that will compute x^y and x/y\n",
    "#input 3 numbers from the user: x,y and fxn switch\n",
    "#call the requested function\n",
    "\n",
    "\n",
    "x = float(input('Input x value.'))\n",
    "y = float(input('Input y value.'))\n",
    "\n",
    "def comp_exp(x,y):\n",
    "    display(Math('%g^{%g} = %g' %(x,y,x**y)))\n",
    "\n",
    "def comp_frac(x,y):\n",
    "    display(Math('\\\\frac{%g}{%g} = %g' %(x,y,x/y)))\n",
    "\n",
    "display(Math('\\\\text{Press \"1\" to compute } %g^{%g} \\\\text{ or press \"2\" if } \\\\frac{%g}{%g}'%(x,y,x,y)))\n",
    "\n",
    "switch = int(input())\n",
    "\n",
    "if switch == 1:\n",
    "    comp_exp(x,y)\n",
    "elif switch == 2:\n",
    "    comp_frac(x,y)\n",
    "else:\n",
    "    print('Please input a correct number.')\n",
    "        \n",
    "\n",
    "\n"
   ]
  }
 ],
 "metadata": {
  "kernelspec": {
   "display_name": "Python 3",
   "language": "python",
   "name": "python3"
  },
  "language_info": {
   "codemirror_mode": {
    "name": "ipython",
    "version": 3
   },
   "file_extension": ".py",
   "mimetype": "text/x-python",
   "name": "python",
   "nbconvert_exporter": "python",
   "pygments_lexer": "ipython3",
   "version": "3.11.9"
  }
 },
 "nbformat": 4,
 "nbformat_minor": 2
}
