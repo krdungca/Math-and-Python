{
 "cells": [
  {
   "cell_type": "code",
   "execution_count": 3,
   "metadata": {},
   "outputs": [],
   "source": [
    "from IPython.display import display, Math\n",
    "from numpy import random"
   ]
  },
  {
   "cell_type": "code",
   "execution_count": null,
   "metadata": {},
   "outputs": [],
   "source": [
    "#guess a number between 1 and 20\n",
    "#guess higher, guess lower\n",
    "#nice! you got [number]\n",
    "\n",
    "py_unknown = random.randint(1,50)\n",
    "\n",
    "print('Guess a number between 1 and 20.')\n",
    "\n",
    "usr_guess = int(input('Input your guess: '))\n",
    "while usr_guess != py_unknown:\n",
    "    if usr_guess > py_unknown:\n",
    "        usr_guess = int(input('Guess lower! You guessed %g' %usr_guess))\n",
    "    elif usr_guess < py_unknown:\n",
    "        usr_guess = int(input('Guess higher! You guessed %g' %usr_guess))\n",
    "\n",
    "\n",
    "print('nice! you got the %g' %py_unknown)"
   ]
  },
  {
   "cell_type": "code",
   "execution_count": null,
   "metadata": {},
   "outputs": [],
   "source": [
    "#function definition (no inputs necessary)\n",
    "#code \n",
    "#code\n",
    "#code"
   ]
  },
  {
   "cell_type": "code",
   "execution_count": 19,
   "metadata": {},
   "outputs": [],
   "source": [
    "#function definition (no inputs necessary)\n",
    "def guesstheNumber():\n",
    "    #generate a random integer\n",
    "    num2guess = random.randint(1,21)\n",
    "\n",
    "    #ask user for a guess\n",
    "    userguess = int(input('Guess a number between 1 and 20: '))\n",
    "\n",
    "    #check whether number is a match\n",
    "    while userguess != num2guess:\n",
    "        #print informative message and ask another guess\n",
    "        if userguess < num2guess:\n",
    "            print('Guess higher!')\n",
    "        elif userguess > num2guess:\n",
    "            print('Guess lower!')\n",
    "\n",
    "        userguess = int(input('Guess again: '))\n",
    "\n",
    "    #if guess correct, congratulate user\n",
    "    print('nice! you got the %g' %num2guess)"
   ]
  },
  {
   "cell_type": "code",
   "execution_count": 20,
   "metadata": {},
   "outputs": [
    {
     "name": "stdout",
     "output_type": "stream",
     "text": [
      "Guess lower!\n",
      "Guess higher!\n",
      "Guess higher!\n",
      "Guess higher!\n",
      "Guess higher!\n",
      "Guess higher!\n",
      "Guess higher!\n",
      "Guess lower!\n",
      "Guess higher!\n",
      "Guess higher!\n",
      "nice! you got the 13\n"
     ]
    }
   ],
   "source": [
    "guesstheNumber()"
   ]
  }
 ],
 "metadata": {
  "kernelspec": {
   "display_name": "Python 3",
   "language": "python",
   "name": "python3"
  },
  "language_info": {
   "codemirror_mode": {
    "name": "ipython",
    "version": 3
   },
   "file_extension": ".py",
   "mimetype": "text/x-python",
   "name": "python",
   "nbconvert_exporter": "python",
   "pygments_lexer": "ipython3",
   "version": "3.11.9"
  }
 },
 "nbformat": 4,
 "nbformat_minor": 2
}
