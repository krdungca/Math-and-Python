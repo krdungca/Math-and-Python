{
 "cells": [
  {
   "cell_type": "code",
   "execution_count": 30,
   "metadata": {},
   "outputs": [],
   "source": [
    "from IPython.display import display, Math"
   ]
  },
  {
   "cell_type": "code",
   "execution_count": 31,
   "metadata": {},
   "outputs": [],
   "source": [
    "def comp_rem(x,y):\n",
    "    divis = int(x/y)\n",
    "    rem = x%y\n",
    "\n",
    "    print('%g goes into %g, %g times with a remainder of %g' %(y,x,divis,rem))\n"
   ]
  },
  {
   "cell_type": "code",
   "execution_count": 38,
   "metadata": {},
   "outputs": [
    {
     "name": "stdout",
     "output_type": "stream",
     "text": [
      "2 goes into 1.74886e+22, 8.74431e+21 times with a remainder of 1\n"
     ]
    }
   ],
   "source": [
    "comp_rem(1505**7,2)"
   ]
  },
  {
   "cell_type": "code",
   "execution_count": 50,
   "metadata": {},
   "outputs": [],
   "source": [
    "def comp_rem_with_input():\n",
    "    x = float(input('Input numerator:'))\n",
    "    y = float(input('Input denominator:'))\n",
    "    divis = int(x/y)\n",
    "    rem = x%y\n",
    "\n",
    "    print('%g goes into %g, %g times with a remainder of %g' %(y,x,divis,rem))\n"
   ]
  },
  {
   "cell_type": "code",
   "execution_count": 51,
   "metadata": {},
   "outputs": [
    {
     "name": "stdout",
     "output_type": "stream",
     "text": [
      "14.5 goes into 15.9, 1 times with a remainder of 1.4\n"
     ]
    }
   ],
   "source": [
    "comp_rem_with_input()"
   ]
  }
 ],
 "metadata": {
  "kernelspec": {
   "display_name": "Python 3",
   "language": "python",
   "name": "python3"
  },
  "language_info": {
   "codemirror_mode": {
    "name": "ipython",
    "version": 3
   },
   "file_extension": ".py",
   "mimetype": "text/x-python",
   "name": "python",
   "nbconvert_exporter": "python",
   "pygments_lexer": "ipython3",
   "version": "3.11.9"
  }
 },
 "nbformat": 4,
 "nbformat_minor": 2
}
