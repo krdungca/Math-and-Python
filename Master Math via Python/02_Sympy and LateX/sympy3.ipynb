{
 "cells": [
  {
   "cell_type": "code",
   "execution_count": 2,
   "metadata": {},
   "outputs": [],
   "source": [
    "import sympy as sym\n",
    "from IPython.display import display, Math\n",
    "\n",
    "def pre_latex(x):\n",
    "    display(Math(x))"
   ]
  },
  {
   "cell_type": "code",
   "execution_count": 15,
   "metadata": {},
   "outputs": [
    {
     "data": {
      "text/latex": [
       "$\\displaystyle e^{\\frac{\\left(- \\alpha + \\mu\\right)^{2}}{2 \\sigma^{2}}}$"
      ],
      "text/plain": [
       "exp((-alpha + mu)**2/(2*sigma**2))"
      ]
     },
     "execution_count": 15,
     "metadata": {},
     "output_type": "execute_result"
    }
   ],
   "source": [
    "x = sym.symbols('x')\n",
    "mu, alpha, sigma = sym.symbols('mu, alpha, sigma')\n",
    "\n",
    "\n",
    "expr = sym.exp((mu-alpha)**2 / (2*sigma**2)) #formula for the bell curve gaussian\n",
    "\n",
    "expr"
   ]
  },
  {
   "cell_type": "code",
   "execution_count": 19,
   "metadata": {},
   "outputs": [
    {
     "data": {
      "text/latex": [
       "$\\displaystyle \\frac{hello}{3}$"
      ],
      "text/plain": [
       "hello/3"
      ]
     },
     "execution_count": 19,
     "metadata": {},
     "output_type": "execute_result"
    }
   ],
   "source": [
    "hello = sym.symbols('hello')\n",
    "\n",
    "hello/3"
   ]
  },
  {
   "cell_type": "code",
   "execution_count": 28,
   "metadata": {},
   "outputs": [
    {
     "data": {
      "text/latex": [
       "$\\displaystyle 3$"
      ],
      "text/plain": [
       "3"
      ]
     },
     "execution_count": 28,
     "metadata": {},
     "output_type": "execute_result"
    }
   ],
   "source": [
    "x,y = sym.symbols('x,y')\n",
    "\n",
    "expr = x + 1 + 2*y\n",
    "expr.subs({x:-4, y:3})  # {} --> dictionary?\n"
   ]
  },
  {
   "cell_type": "code",
   "execution_count": 32,
   "metadata": {},
   "outputs": [
    {
     "data": {
      "text/latex": [
       "$\\displaystyle \\frac{3}{x}$"
      ],
      "text/plain": [
       "<IPython.core.display.Math object>"
      ]
     },
     "metadata": {},
     "output_type": "display_data"
    }
   ],
   "source": [
    "expr = 3/x\n",
    "\n",
    "test = sym.latex(expr)  #sym.latex !!!!!!!, but note, input to the sym.latex() must have defined sym.symbols()\n",
    "\n",
    "pre_latex(test)"
   ]
  },
  {
   "cell_type": "code",
   "execution_count": 45,
   "metadata": {},
   "outputs": [
    {
     "data": {
      "text/latex": [
       "$\\displaystyle \\frac{3}{4}$"
      ],
      "text/plain": [
       "3/4"
      ]
     },
     "execution_count": 45,
     "metadata": {},
     "output_type": "execute_result"
    }
   ],
   "source": [
    "#we can create a sympy object so that we are not limited with usable variables\n",
    "test_frac = '3/4'\n",
    "\n",
    "#view latex code\n",
    "sym.latex(sym.sympify(test_frac)) #output: '\\\\frac{3}{4}'\n",
    "\n",
    "#view final code\n",
    "sym.sympify(test_frac)"
   ]
  },
  {
   "cell_type": "code",
   "execution_count": 48,
   "metadata": {},
   "outputs": [
    {
     "data": {
      "text/plain": [
       "'\\\\mathtt{\\\\text{THIS IS TESTER}}'"
      ]
     },
     "execution_count": 48,
     "metadata": {},
     "output_type": "execute_result"
    }
   ],
   "source": [
    "test_text = 'THIS IS TESTER'\n",
    "sym.latex(test_text)"
   ]
  },
  {
   "cell_type": "code",
   "execution_count": 98,
   "metadata": {},
   "outputs": [
    {
     "data": {
      "text/latex": [
       "$\\displaystyle With \\, x =-2: x^2 + 4 \\Rightarrow -2^2 + 4 = 8$"
      ],
      "text/plain": [
       "<IPython.core.display.Math object>"
      ]
     },
     "metadata": {},
     "output_type": "display_data"
    },
    {
     "data": {
      "text/latex": [
       "$\\displaystyle With \\, x =-1: x^2 + 4 \\Rightarrow -1^2 + 4 = 5$"
      ],
      "text/plain": [
       "<IPython.core.display.Math object>"
      ]
     },
     "metadata": {},
     "output_type": "display_data"
    },
    {
     "data": {
      "text/latex": [
       "$\\displaystyle With \\, x =0\\,\\,\\,\\,\\,: x^2 + 4 \\Rightarrow\\,\\,\\,\\,\\, 0^2 + 4 = 4$"
      ],
      "text/plain": [
       "<IPython.core.display.Math object>"
      ]
     },
     "metadata": {},
     "output_type": "display_data"
    },
    {
     "data": {
      "text/latex": [
       "$\\displaystyle With \\, x =1\\,\\,\\,\\,\\,: x^2 + 4 \\Rightarrow\\,\\,\\,\\,\\, 1^2 + 4 = 5$"
      ],
      "text/plain": [
       "<IPython.core.display.Math object>"
      ]
     },
     "metadata": {},
     "output_type": "display_data"
    },
    {
     "data": {
      "text/latex": [
       "$\\displaystyle With \\, x =2\\,\\,\\,\\,\\,: x^2 + 4 \\Rightarrow\\,\\,\\,\\,\\, 2^2 + 4 = 8$"
      ],
      "text/plain": [
       "<IPython.core.display.Math object>"
      ]
     },
     "metadata": {},
     "output_type": "display_data"
    }
   ],
   "source": [
    "# i = sym.symbols('i')\n",
    "\n",
    "#for loop, range (-2,3)\n",
    "for i in range(-2,3):\n",
    "    #to evaluate x^2 + 4\n",
    "    fxn = x**2 + 4\n",
    "    out_fxn = fxn.subs(x,i)#substitute value\n",
    "    \n",
    "    #display With x = (i): x^2 + 4 -> (i)^2 + 4 = (comp)\n",
    "    first_char = ''\n",
    "    if i >= 0:\n",
    "        first_char = '\\,\\,\\,\\,\\,'\n",
    "    pre_text = 'With \\, x =%g%s: x^2 + 4 \\\\Rightarrow%s %g^2 + 4 = %g' %(i,first_char,first_char,i,out_fxn)\n",
    "    \n",
    "    pre_latex(pre_text)\n"
   ]
  }
 ],
 "metadata": {
  "kernelspec": {
   "display_name": "Python 3",
   "language": "python",
   "name": "python3"
  },
  "language_info": {
   "codemirror_mode": {
    "name": "ipython",
    "version": 3
   },
   "file_extension": ".py",
   "mimetype": "text/x-python",
   "name": "python",
   "nbconvert_exporter": "python",
   "pygments_lexer": "ipython3",
   "version": "3.11.9"
  }
 },
 "nbformat": 4,
 "nbformat_minor": 2
}
