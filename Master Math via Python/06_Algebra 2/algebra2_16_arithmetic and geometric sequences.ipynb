{
 "cells": [
  {
   "cell_type": "markdown",
   "metadata": {},
   "source": [
    "Sequence = ordered list of numbers\n",
    "\n",
    "linear \n",
    "\n",
    "$ a_n = a_0 + d(n-1)$\n",
    "\n",
    "\n",
    "geometric\n",
    "\n",
    "$ g_n = g_0 r^{n-1}$"
   ]
  },
  {
   "cell_type": "code",
   "execution_count": 3,
   "metadata": {},
   "outputs": [],
   "source": [
    "import numpy as np\n",
    "import matplotlib.pyplot as plt"
   ]
  },
  {
   "cell_type": "code",
   "execution_count": 12,
   "metadata": {},
   "outputs": [
    {
     "name": "stdout",
     "output_type": "stream",
     "text": [
      "arange:  [0 1 2 3 4 5 6 7 8 9]\n"
     ]
    },
    {
     "data": {
      "text/plain": [
       "array([10, 15, 20, 25, 30, 35, 40, 45, 50, 55])"
      ]
     },
     "execution_count": 12,
     "metadata": {},
     "output_type": "execute_result"
    }
   ],
   "source": [
    "#parameters   arithmetic seq\n",
    "\n",
    "a_0 = 10 \n",
    "d = 5 #define the skipping rate\n",
    "maxn = 10\n",
    "\n",
    "print('arange: ',np.arange(0,maxn) )\n",
    "ar_seq = a_0 + d*np.arange(0,maxn) \n",
    "\n",
    "ar_seq"
   ]
  },
  {
   "cell_type": "code",
   "execution_count": 33,
   "metadata": {},
   "outputs": [
    {
     "data": {
      "text/plain": [
       "array([  2,   4,   8,  16,  32,  64, 128, 256])"
      ]
     },
     "execution_count": 33,
     "metadata": {},
     "output_type": "execute_result"
    }
   ],
   "source": [
    "#parameters   geometric seq\n",
    "g_0 = 2\n",
    "r = 2   #multiplier of a_n-1 // increasing powers\n",
    "maxn = 8\n",
    "\n",
    "geo_seq = g_0 * r **(np.arange(0,maxn))\n",
    "\n",
    "geo_seq"
   ]
  },
  {
   "cell_type": "code",
   "execution_count": 35,
   "metadata": {},
   "outputs": [
    {
     "data": {
      "text/plain": [
       "<matplotlib.legend.Legend at 0x1f371360210>"
      ]
     },
     "execution_count": 35,
     "metadata": {},
     "output_type": "execute_result"
    },
    {
     "data": {
      "image/png": "[encoded data removed]",
      "text/plain": [
       "<Figure size 640x480 with 1 Axes>"
      ]
     },
     "metadata": {},
     "output_type": "display_data"
    }
   ],
   "source": [
    "plt.plot(ar_seq,'ks',label='arithmetic')\n",
    "plt.plot(geo_seq,'ro',label='geometric')\n",
    "\n",
    "plt.legend()\n"
   ]
  },
  {
   "cell_type": "code",
   "execution_count": 131,
   "metadata": {},
   "outputs": [
    {
     "name": "stdout",
     "output_type": "stream",
     "text": [
      "[10 15 20 25 30 35 40 45 50 55]\n",
      "ar_seq[9]=  55\n",
      "[(-a_0 + a_n + d)/d]\n"
     ]
    },
    {
     "data": {
      "text/latex": [
       "$\\displaystyle 10$"
      ],
      "text/plain": [
       "10"
      ]
     },
     "execution_count": 131,
     "metadata": {},
     "output_type": "execute_result"
    }
   ],
   "source": [
    "import sympy as sym\n",
    "#parameters   arithmetic seq\n",
    "\n",
    "a_0 = 10 \n",
    "d = 5 #define the skipping rate\n",
    "maxn = 10\n",
    "\n",
    "#ar_seq = a_0 + d*(n-1) \n",
    "ar_seq = a_0 + d*np.arange(0,maxn) \n",
    "print(ar_seq)\n",
    "print('ar_seq[9]= ',ar_seq[9])\n",
    "\n",
    "#parameters   geometric seq\n",
    "g_0 = 2\n",
    "r = 2   #multiplier of a_n-1 // increasing powers\n",
    "maxn = 8\n",
    "\n",
    "geo_seq = g_0 * r **(np.arange(0,maxn))\n",
    "\n",
    "# ------------------------------------------------\n",
    "a_0, n,d,a_n = sym.symbols('a_0, n,d,a_n')\n",
    "\n",
    "#solve for n\n",
    "n_solve = sym.solve((a_0 + d*(n-1) - a_n),n)\n",
    "\n",
    "#a_n = 55\n",
    "#a_0 = 10\n",
    "#d = 5\n",
    "print(n_solve)\n",
    "n_solve[0].subs({a_n:55,a_0:10,d:5})\n",
    "\n"
   ]
  },
  {
   "cell_type": "code",
   "execution_count": null,
   "metadata": {},
   "outputs": [],
   "source": []
  }
 ],
 "metadata": {
  "kernelspec": {
   "display_name": "Python 3",
   "language": "python",
   "name": "python3"
  },
  "language_info": {
   "codemirror_mode": {
    "name": "ipython",
    "version": 3
   },
   "file_extension": ".py",
   "mimetype": "text/x-python",
   "name": "python",
   "nbconvert_exporter": "python",
   "pygments_lexer": "ipython3",
   "version": "3.11.9"
  }
 },
 "nbformat": 4,
 "nbformat_minor": 2
}
