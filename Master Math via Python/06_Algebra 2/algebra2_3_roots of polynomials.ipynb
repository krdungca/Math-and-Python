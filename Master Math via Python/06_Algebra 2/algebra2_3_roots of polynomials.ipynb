{
 "cells": [
  {
   "cell_type": "code",
   "execution_count": 4,
   "metadata": {},
   "outputs": [],
   "source": [
    "import numpy as np\n",
    "import sympy as sym\n",
    "from IPython.display import display, Math"
   ]
  },
  {
   "cell_type": "code",
   "execution_count": 9,
   "metadata": {},
   "outputs": [
    {
     "data": {
      "text/plain": [
       "array([-1.        ,  0.33333333])"
      ]
     },
     "execution_count": 9,
     "metadata": {},
     "output_type": "execute_result"
    }
   ],
   "source": [
    "#find the root of \n",
    "\n",
    "# 0 = 3*x**2 + 2*x - 1\n",
    "\n",
    "coefs = [3,2,-1]    #coeffs arranged from the highest exponent, numpy interprets this as the function-f\n",
    "                    #[x^2,x^1,x^0]\n",
    "                    #when input in np.roots() then it will follow the descending-order format\n",
    "roots = np.roots(coefs)\n",
    "\n",
    "roots   #outputs  array([-1.        ,  0.33333333]) .... value is being computer-rounded error"
   ]
  },
  {
   "cell_type": "code",
   "execution_count": 64,
   "metadata": {},
   "outputs": [
    {
     "name": "stdout",
     "output_type": "stream",
     "text": [
      "A degree-0 polynomial has 0 roots.\n",
      "A degree-1 polynomial has 1 roots.\n",
      "A degree-2 polynomial has 2 roots.\n",
      "A degree-3 polynomial has 3 roots.\n",
      "A degree-4 polynomial has 4 roots.\n",
      "A degree-5 polynomial has 5 roots.\n",
      "A degree-6 polynomial has 6 roots.\n"
     ]
    }
   ],
   "source": [
    "#generate a degree-N polynomial and count the number of roots\n",
    "#output: A degree-n polynomial has ___ roots.\n",
    "\n",
    "n = 7\n",
    "\n",
    "n_range = np.arange(0,n)\n",
    "\n",
    "for i in range(0,len(n_range)):\n",
    "    deg = n_range[i]\n",
    "    rts = len(np.roots(np.arange(0,i+2)))\n",
    "    \n",
    "    print('A degree-%s polynomial has %s roots.'%(deg,rts))\n"
   ]
  },
  {
   "cell_type": "code",
   "execution_count": 68,
   "metadata": {},
   "outputs": [
    {
     "name": "stdout",
     "output_type": "stream",
     "text": [
      "A degree-0 polynomial has 0 roots\n",
      "A degree-1 polynomial has 1 roots\n",
      "A degree-2 polynomial has 2 roots\n",
      "A degree-3 polynomial has 3 roots\n",
      "A degree-4 polynomial has 4 roots\n",
      "A degree-5 polynomial has 5 roots\n",
      "A degree-6 polynomial has 6 roots\n",
      "A degree-7 polynomial has 7 roots\n",
      "A degree-8 polynomial has 8 roots\n",
      "A degree-9 polynomial has 9 roots\n"
     ]
    }
   ],
   "source": [
    "for i in range(1,11):\n",
    "    coefs = np.arange(1,i+1)\n",
    "    print('A degree-%s polynomial has %s roots'%(len(coefs)-1,len(np.roots(coefs))))"
   ]
  }
 ],
 "metadata": {
  "kernelspec": {
   "display_name": "Python 3",
   "language": "python",
   "name": "python3"
  },
  "language_info": {
   "codemirror_mode": {
    "name": "ipython",
    "version": 3
   },
   "file_extension": ".py",
   "mimetype": "text/x-python",
   "name": "python",
   "nbconvert_exporter": "python",
   "pygments_lexer": "ipython3",
   "version": "3.11.9"
  }
 },
 "nbformat": 4,
 "nbformat_minor": 2
}
