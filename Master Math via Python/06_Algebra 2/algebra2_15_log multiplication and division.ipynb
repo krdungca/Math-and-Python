{
 "cells": [
  {
   "cell_type": "markdown",
   "metadata": {},
   "source": [
    "Logarithm can convert:\n",
    "\n",
    "MULTIPLICATION to ADDITION\n",
    "     \n",
    "DIVISION to SUBTRACTION\n",
    "\n",
    "$log(a \\times b) = log(a) + log(b)$\n",
    "\n",
    "$log \\left(\\frac{a}{b}\\right) = log(a) - log(b), \\text{log(0)=-} \\infty \\text{  ,b must not be 0}$\n",
    "\n",
    "Particularly useful in calculus\n",
    "\n",
    "\n",
    "$log(a^x)  = x \\, log(a)$"
   ]
  },
  {
   "cell_type": "code",
   "execution_count": 2,
   "metadata": {},
   "outputs": [],
   "source": [
    "import numpy as np\n",
    "from IPython.display import display, Math"
   ]
  },
  {
   "cell_type": "code",
   "execution_count": null,
   "metadata": {},
   "outputs": [],
   "source": [
    "a = 3\n",
    "b = 4\n",
    "\n",
    "res1 = np.log(a*b)\n",
    "res2 = np.log(a) * np.log(b)\n",
    "res3 = np.log(a) + np.log(b)\n",
    "\n"
   ]
  }
 ],
 "metadata": {
  "kernelspec": {
   "display_name": "Python 3",
   "language": "python",
   "name": "python3"
  },
  "language_info": {
   "codemirror_mode": {
    "name": "ipython",
    "version": 3
   },
   "file_extension": ".py",
   "mimetype": "text/x-python",
   "name": "python",
   "nbconvert_exporter": "python",
   "pygments_lexer": "ipython3",
   "version": "3.11.9"
  }
 },
 "nbformat": 4,
 "nbformat_minor": 2
}
