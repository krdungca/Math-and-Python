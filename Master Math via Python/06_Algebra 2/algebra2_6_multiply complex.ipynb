{
 "cells": [
  {
   "cell_type": "code",
   "execution_count": 2,
   "metadata": {},
   "outputs": [],
   "source": [
    "import sympy as sym\n",
    "import numpy as np"
   ]
  },
  {
   "cell_type": "code",
   "execution_count": 3,
   "metadata": {},
   "outputs": [
    {
     "data": {
      "text/plain": [
       "(-22+58j)"
      ]
     },
     "execution_count": 3,
     "metadata": {},
     "output_type": "execute_result"
    }
   ],
   "source": [
    "a1 = complex(4,6)\n",
    "a2 = complex(5,7)\n",
    "\n",
    "a1*a2"
   ]
  },
  {
   "cell_type": "code",
   "execution_count": 4,
   "metadata": {},
   "outputs": [
    {
     "data": {
      "text/plain": [
       "np.complex128(4-6j)"
      ]
     },
     "execution_count": 4,
     "metadata": {},
     "output_type": "execute_result"
    }
   ],
   "source": [
    "#COMPLEX CONJUGATE\n",
    "\n",
    "#a+bi -->   a-bi\n",
    "\n",
    "\n",
    "\n",
    "sym.conjugate(sym.sympify(a1))\n",
    "\n",
    "np.conj(a1)"
   ]
  },
  {
   "cell_type": "code",
   "execution_count": 7,
   "metadata": {},
   "outputs": [
    {
     "data": {
      "text/latex": [
       "$\\displaystyle a - i b$"
      ],
      "text/plain": [
       "a - I*b"
      ]
     },
     "execution_count": 7,
     "metadata": {},
     "output_type": "execute_result"
    }
   ],
   "source": [
    "# z = a + b*I   wherein a,b are real values\n",
    "#show z * z-conjugate = a**2 + b**2\n",
    "\n",
    "a,b = sym.symbols('a,b',real=True)\n",
    "\n",
    "z = a + b*sym.I\n",
    "\n",
    "sym.conjugate(z)"
   ]
  },
  {
   "cell_type": "code",
   "execution_count": 6,
   "metadata": {},
   "outputs": [
    {
     "data": {
      "text/latex": [
       "$\\displaystyle a \\overline{a} - i a \\overline{b} + i b \\overline{a} + b \\overline{b}$"
      ],
      "text/plain": [
       "a*conjugate(a) - I*a*conjugate(b) + I*b*conjugate(a) + b*conjugate(b)"
      ]
     },
     "execution_count": 6,
     "metadata": {},
     "output_type": "execute_result"
    }
   ],
   "source": [
    "sym.expand(z*sym.conjugate(z))"
   ]
  }
 ],
 "metadata": {
  "kernelspec": {
   "display_name": "Python 3",
   "language": "python",
   "name": "python3"
  },
  "language_info": {
   "codemirror_mode": {
    "name": "ipython",
    "version": 3
   },
   "file_extension": ".py",
   "mimetype": "text/x-python",
   "name": "python",
   "nbconvert_exporter": "python",
   "pygments_lexer": "ipython3",
   "version": "3.11.9"
  }
 },
 "nbformat": 4,
 "nbformat_minor": 2
}
