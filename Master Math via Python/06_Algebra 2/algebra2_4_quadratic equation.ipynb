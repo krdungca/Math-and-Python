{
 "cells": [
  {
   "cell_type": "code",
   "execution_count": 2,
   "metadata": {},
   "outputs": [],
   "source": [
    "import numpy as np\n",
    "import scipy as sp\n",
    "import sympy as sym\n",
    "from IPython.display import display,Math"
   ]
  },
  {
   "cell_type": "code",
   "execution_count": 3,
   "metadata": {},
   "outputs": [
    {
     "data": {
      "text/latex": [
       "$\\displaystyle \\left( - \\frac{7}{6} + \\frac{\\sqrt{11} i}{6}, \\  - \\frac{7}{6} - \\frac{\\sqrt{11} i}{6}\\right)$"
      ],
      "text/plain": [
       "<IPython.core.display.Math object>"
      ]
     },
     "metadata": {},
     "output_type": "display_data"
    }
   ],
   "source": [
    "#quadratic equation\n",
    "#ax^2 + bx + c = 0   degree-2 \n",
    "\n",
    "a = 3\n",
    "b = 7\n",
    "c = 5\n",
    "\n",
    "quadeqP = (-b + sym.sqrt(b**2 - 4*a*c))/(2*a)\n",
    "\n",
    "quadeqN = (-b - sym.sqrt(b**2 - 4*a*c))/(2*a)\n",
    "\n",
    "display(Math(sym.latex((quadeqP,quadeqN))))"
   ]
  },
  {
   "cell_type": "code",
   "execution_count": 4,
   "metadata": {},
   "outputs": [
    {
     "data": {
      "text/latex": [
       "$\\displaystyle \\left[ - \\frac{3}{802} + \\frac{\\sqrt{1595} i}{802}, \\  - \\frac{3}{802} - \\frac{\\sqrt{1595} i}{802}\\right]$"
      ],
      "text/plain": [
       "<IPython.core.display.Math object>"
      ]
     },
     "metadata": {},
     "output_type": "display_data"
    }
   ],
   "source": [
    "def quadeq(a,b,c):\n",
    "    out = [0,0]\n",
    "    out[0] = (-b + sym.sqrt(b**2 - 4*a*c))/(2*a)\n",
    "    out[1] = (-b - sym.sqrt(b**2 - 4*a*c))/(2*a)\n",
    "\n",
    "    return display(Math(sym.latex(out)))\n",
    "\n",
    "quadeq(2005,15,5)    "
   ]
  },
  {
   "cell_type": "code",
   "execution_count": 14,
   "metadata": {},
   "outputs": [
    {
     "name": "stdout",
     "output_type": "stream",
     "text": [
      "Rows(y): 11\n",
      "Columns(x): 13\n"
     ]
    },
    {
     "data": {
      "text/plain": [
       "(np.float64(-2.0), np.float64(10.0), np.float64(-5.0), np.float64(5.0))"
      ]
     },
     "execution_count": 14,
     "metadata": {},
     "output_type": "execute_result"
    },
    {
     "data": {
      "image/png": "[encoded data removed]",
      "text/plain": [
       "<Figure size 640x480 with 2 Axes>"
      ]
     },
     "metadata": {},
     "output_type": "display_data"
    }
   ],
   "source": [
    "from sympy import im\n",
    "import matplotlib.pyplot as plt\n",
    "\n",
    "#set parameters\n",
    "a = 1\n",
    "b = range(-5,6)\n",
    "c = range(-2,11)\n",
    "\n",
    "#quadratic equation function\n",
    "def quadeq(a,b,c):\n",
    "    out = [0,0]\n",
    "    out[0] = (-b + sym.sqrt(b**2 - 4*a*c))/(2*a)\n",
    "    out[1] = (-b - sym.sqrt(b**2 - 4*a*c))/(2*a)\n",
    "    return out\n",
    "\n",
    "\n",
    "#initialize matrix\n",
    "M = np.zeros([len(b),len(c)])\n",
    "\n",
    "#matrix dimensions\n",
    "print('Rows(y): %s'%(len(b)))\n",
    "print('Columns(x): %s'%(len(c)))\n",
    "\n",
    "\n",
    "\n",
    "# #populate matrix\n",
    "for i in range(0,np.shape(M)[0]):\n",
    "    for j in range(0,np.shape(M)[1]):\n",
    "        results = quadeq(a,b[i],c[j])[0]\n",
    "        results = results.evalf()\n",
    "\n",
    "        if im(results) == 0:\n",
    "            M[i,j] = quadeq(a,b[i],c[j])[1]\n",
    "        else:\n",
    "            M[i,j] = 3\n",
    "\n",
    "\n",
    "plt.subplot(1,3,1)\n",
    "plt.imshow(np.real(M),extent=[c[0],c[-1],b[0],b[-1]])\n",
    "plt.axis('off')\n",
    "\n",
    "plt.subplot(1,3,2)\n",
    "plt.imshow(M,extent=[c[0],c[-1],b[0],b[-1]])\n",
    "plt.axis('off')\n",
    "\n"
   ]
  }
 ],
 "metadata": {
  "kernelspec": {
   "display_name": "Python 3",
   "language": "python",
   "name": "python3"
  },
  "language_info": {
   "codemirror_mode": {
    "name": "ipython",
    "version": 3
   },
   "file_extension": ".py",
   "mimetype": "text/x-python",
   "name": "python",
   "nbconvert_exporter": "python",
   "pygments_lexer": "ipython3",
   "version": "3.11.9"
  }
 },
 "nbformat": 4,
 "nbformat_minor": 2
}
