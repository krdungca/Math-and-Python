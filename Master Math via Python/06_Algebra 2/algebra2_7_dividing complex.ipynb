{
 "cells": [
  {
   "cell_type": "code",
   "execution_count": 1,
   "metadata": {},
   "outputs": [],
   "source": [
    "#division using conjugate trick\n",
    "#breaking up complicated equations into multiple lines of code\n"
   ]
  },
  {
   "cell_type": "code",
   "execution_count": 2,
   "metadata": {},
   "outputs": [],
   "source": [
    "import sympy as sym\n",
    "import numpy as np\n",
    "\n",
    "from IPython.display import display,Math"
   ]
  },
  {
   "cell_type": "code",
   "execution_count": 3,
   "metadata": {},
   "outputs": [
    {
     "data": {
      "text/latex": [
       "$\\displaystyle \\frac{z}{w} = \\frac{z\\times w^{*}}{w \\times w^{*}}$"
      ],
      "text/plain": [
       "<IPython.core.display.Math object>"
      ]
     },
     "metadata": {},
     "output_type": "display_data"
    }
   ],
   "source": [
    "num = 4+2*sym.I\n",
    "den = 2-3*sym.I\n",
    "\n",
    "display(Math('\\\\frac{z}{w} = \\\\frac{z\\\\times w^{*}}{w \\\\times w^{*}}'))"
   ]
  },
  {
   "cell_type": "code",
   "execution_count": 20,
   "metadata": {},
   "outputs": [
    {
     "data": {
      "text/latex": [
       "$\\displaystyle \\frac{\\left(z - 1\\right) \\left(w z + w\\right)}{w z - w} \\times \\frac{\\left(1 - w\\right) \\left(w - 1\\right)}{- w^{2} z - w^{2} + 2 w z + 2 w - z - 1}$"
      ],
      "text/plain": [
       "<IPython.core.display.Math object>"
      ]
     },
     "metadata": {},
     "output_type": "display_data"
    },
    {
     "data": {
      "text/latex": [
       "$\\displaystyle \\frac{\\left(-2 - 5 i\\right) \\left(2 + 5 i\\right) \\left(3 + 2 i\\right) \\left(3 + 5 i + \\left(3 + 5 i\\right) \\left(4 + 2 i\\right)\\right)}{\\left(-3 - 5 i + \\left(3 + 5 i\\right) \\left(4 + 2 i\\right)\\right) \\left(1 - \\left(3 + 5 i\\right)^{2} \\left(4 + 2 i\\right) - \\left(3 + 5 i\\right)^{2} + 8 i + 2 \\left(3 + 5 i\\right) \\left(4 + 2 i\\right)\\right)}$"
      ],
      "text/plain": [
       "<IPython.core.display.Math object>"
      ]
     },
     "metadata": {},
     "output_type": "display_data"
    },
    {
     "data": {
      "text/latex": [
       "$\\displaystyle 1$"
      ],
      "text/plain": [
       "<IPython.core.display.Math object>"
      ]
     },
     "metadata": {},
     "output_type": "display_data"
    }
   ],
   "source": [
    "z,w = sym.symbols('z,w')\n",
    "\n",
    "exprs = [\n",
    "    (z-1)*(z*w + w),\n",
    "    (w*z - w),\n",
    "    (w-1)*(1-w),\n",
    "    (-z*w**2 - w**2 + 2*w*z + 2*w - z - 1)\n",
    "]\n",
    "\n",
    "display(Math('\\\\frac{%s}{%s} \\\\times \\\\frac{%s}{%s}' %(sym.latex(exprs[0]),sym.latex(exprs[1]),sym.latex(exprs[2]),sym.latex(exprs[3]))))\n",
    "\n",
    "z_val = 4 + 2*sym.I\n",
    "w_val = 3 + 5*sym.I\n",
    "\n",
    "lhs = (exprs[0])/(exprs[1])\n",
    "rhs = (exprs[2])/(exprs[3])\n",
    "\n",
    "result = lhs * rhs\n",
    "\n",
    "display(Math(sym.latex(result.subs({z:z_val,w:w_val}))))\n",
    "\n",
    "display(Math(sym.latex(sym.simplify(result.subs({z:z_val,w:w_val})))))\n",
    "\n",
    "\n"
   ]
  }
 ],
 "metadata": {
  "kernelspec": {
   "display_name": "Python 3",
   "language": "python",
   "name": "python3"
  },
  "language_info": {
   "codemirror_mode": {
    "name": "ipython",
    "version": 3
   },
   "file_extension": ".py",
   "mimetype": "text/x-python",
   "name": "python",
   "nbconvert_exporter": "python",
   "pygments_lexer": "ipython3",
   "version": "3.11.9"
  }
 },
 "nbformat": 4,
 "nbformat_minor": 2
}
