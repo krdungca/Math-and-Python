{
 "cells": [
  {
   "cell_type": "code",
   "execution_count": 2,
   "metadata": {},
   "outputs": [],
   "source": [
    "import numpy as np\n",
    "import matplotlib.pyplot as plt\n",
    "import sympy as sym"
   ]
  },
  {
   "cell_type": "code",
   "execution_count": 3,
   "metadata": {},
   "outputs": [
    {
     "data": {
      "text/plain": [
       "24"
      ]
     },
     "execution_count": 3,
     "metadata": {},
     "output_type": "execute_result"
    }
   ],
   "source": [
    "lst = [1,3,4,1,5,4,6]\n",
    "\n",
    "sum(lst)"
   ]
  },
  {
   "cell_type": "code",
   "execution_count": 4,
   "metadata": {},
   "outputs": [
    {
     "data": {
      "text/plain": [
       "np.int64(1440)"
      ]
     },
     "execution_count": 4,
     "metadata": {},
     "output_type": "execute_result"
    }
   ],
   "source": [
    "np.prod(lst)"
   ]
  },
  {
   "cell_type": "code",
   "execution_count": 5,
   "metadata": {},
   "outputs": [
    {
     "data": {
      "text/plain": [
       "[<matplotlib.lines.Line2D at 0x24fe1d63c90>]"
      ]
     },
     "execution_count": 5,
     "metadata": {},
     "output_type": "execute_result"
    },
    {
     "data": {
      "image/png": "[encoded data removed]",
      "text/plain": [
       "<Figure size 640x480 with 1 Axes>"
      ]
     },
     "metadata": {},
     "output_type": "display_data"
    }
   ],
   "source": [
    "#cumulative sum\n",
    "np.cumsum(lst)  #outputs numpy array\n",
    "\n",
    "\n",
    "plt.plot(lst,'ro-')\n",
    "plt.plot(np.cumsum(lst),'ro-')"
   ]
  },
  {
   "cell_type": "code",
   "execution_count": 33,
   "metadata": {},
   "outputs": [
    {
     "name": "stdout",
     "output_type": "stream",
     "text": [
      "ex1 False\n",
      "ex2 True\n"
     ]
    }
   ],
   "source": [
    "a = np.arange(1,6)\n",
    "\n",
    "\n",
    "#exercise 1\n",
    "a_sum = sum(a)\n",
    "\n",
    "asqr_sum = sum(np.array(a)**2)\n",
    "\n",
    "print('ex1',sym.Eq(a_sum/asqr_sum, 1/a_sum))\n",
    "\n",
    "\n",
    "#exercise 2\n",
    "a_prod = np.prod(a)\n",
    "\n",
    "asqr_prod = np.prod(np.array(a)**2)\n",
    "\n",
    "\n",
    "print('ex2',sym.Eq(a_prod/asqr_prod, 1/a_prod))\n",
    "\n"
   ]
  },
  {
   "cell_type": "code",
   "execution_count": 35,
   "metadata": {},
   "outputs": [
    {
     "name": "stdout",
     "output_type": "stream",
     "text": [
      "False\n"
     ]
    }
   ],
   "source": [
    "a = np.arange(1,6)\n",
    "\n",
    "suma = np.sum(a)\n",
    "suma2 = np.sum(a**2)\n",
    "\n",
    "ans1 = suma / suma2\n",
    "ans2 = 1/suma\n",
    "\n",
    "print(sym.Eq(ans1, ans2))\n",
    "\n"
   ]
  }
 ],
 "metadata": {
  "kernelspec": {
   "display_name": "Python 3",
   "language": "python",
   "name": "python3"
  },
  "language_info": {
   "codemirror_mode": {
    "name": "ipython",
    "version": 3
   },
   "file_extension": ".py",
   "mimetype": "text/x-python",
   "name": "python",
   "nbconvert_exporter": "python",
   "pygments_lexer": "ipython3",
   "version": "3.11.9"
  }
 },
 "nbformat": 4,
 "nbformat_minor": 2
}
