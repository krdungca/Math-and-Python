{
 "cells": [
  {
   "cell_type": "code",
   "execution_count": 2,
   "metadata": {},
   "outputs": [
    {
     "data": {
      "text/plain": [
       "'2.134134e+08'"
      ]
     },
     "execution_count": 2,
     "metadata": {},
     "output_type": "execute_result"
    }
   ],
   "source": [
    "x = 213413413\n",
    "\n",
    "'{:,e}'.format(x)  #e for scientific notation"
   ]
  },
  {
   "cell_type": "code",
   "execution_count": 3,
   "metadata": {},
   "outputs": [
    {
     "data": {
      "text/plain": [
       "'213,413,413'"
      ]
     },
     "execution_count": 3,
     "metadata": {},
     "output_type": "execute_result"
    }
   ],
   "source": [
    "'{:,d}'.format(x)  #for numbers with commas"
   ]
  },
  {
   "cell_type": "code",
   "execution_count": 4,
   "metadata": {},
   "outputs": [
    {
     "name": "stdout",
     "output_type": "stream",
     "text": [
      "2.13413413000e+08\n"
     ]
    },
    {
     "data": {
      "text/plain": [
       "'+08'"
      ]
     },
     "execution_count": 4,
     "metadata": {},
     "output_type": "execute_result"
    }
   ],
   "source": [
    "s = '%.11e' %x   #adding .2 means only print-out 2degrees of precision after the decimal point\n",
    "\n",
    "print(s)    #type is string\n",
    "s[-3:]"
   ]
  },
  {
   "cell_type": "code",
   "execution_count": 20,
   "metadata": {},
   "outputs": [
    {
     "name": "stdout",
     "output_type": "stream",
     "text": [
      "250056 is 05 orders of magnitude ~2.500560e+05\n"
     ]
    }
   ],
   "source": [
    "import numpy as np\n",
    "x = 250056\n",
    "x_string = str(x)\n",
    "\n",
    "s = '%e' %x\n",
    "order_of_mag = s[9:]\n",
    "\n",
    "if order_of_mag.find('+') == 0 :\n",
    "    order_of_mag = s[10:]\n",
    "\n",
    "print(x,'is %s orders of magnitude'%order_of_mag,'~%s'%s)"
   ]
  },
  {
   "cell_type": "code",
   "execution_count": 28,
   "metadata": {},
   "outputs": [
    {
     "name": "stdout",
     "output_type": "stream",
     "text": [
      "-7.876560e+03\n",
      "2\n",
      "-7\n"
     ]
    }
   ],
   "source": [
    "num = -7876.56\n",
    "#order of magnitude\n",
    "orderofMag = int(np.floor(np.log10(abs(num))))\n",
    "#floored especially when num < 0\n",
    "#absolute since log of num < 0 is not possible\n",
    "\n",
    "#scientific\n",
    "numstr = '{:,e}'.format(num)\n",
    "wheredot = numstr.find('.')\n",
    "scinot = numstr[:wheredot]\n",
    "\n",
    "print(numstr)\n",
    "print(wheredot)\n",
    "print(scinot)\n"
   ]
  }
 ],
 "metadata": {
  "kernelspec": {
   "display_name": "Python 3",
   "language": "python",
   "name": "python3"
  },
  "language_info": {
   "codemirror_mode": {
    "name": "ipython",
    "version": 3
   },
   "file_extension": ".py",
   "mimetype": "text/x-python",
   "name": "python",
   "nbconvert_exporter": "python",
   "pygments_lexer": "ipython3",
   "version": "3.11.9"
  }
 },
 "nbformat": 4,
 "nbformat_minor": 2
}
