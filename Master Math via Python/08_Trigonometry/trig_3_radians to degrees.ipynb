{
 "cells": [
  {
   "cell_type": "code",
   "execution_count": 1,
   "metadata": {},
   "outputs": [],
   "source": [
    "import numpy as np\n",
    "import matplotlib.pyplot as plt"
   ]
  },
  {
   "cell_type": "code",
   "execution_count": 33,
   "metadata": {},
   "outputs": [],
   "source": [
    "def rad_deg(x):\n",
    "    num = float(x*(180/np.pi))\n",
    "    roundnum = np.round(num,2)\n",
    "    return float(roundnum)\n",
    "\n",
    "def deg_rad(x):\n",
    "    num = float(x*(np.pi/180))\n",
    "    roundnum = np.round(num,2)\n",
    "    return float(roundnum)"
   ]
  },
  {
   "cell_type": "code",
   "execution_count": 42,
   "metadata": {},
   "outputs": [
    {
     "name": "stdout",
     "output_type": "stream",
     "text": [
      "12.566370614359172\n",
      "720.0\n",
      "12.57\n"
     ]
    }
   ],
   "source": [
    "input_rad = np.pi*4\n",
    "print(input_rad)\n",
    "\n",
    "print(rad_deg(input_rad))\n",
    "\n",
    "print(deg_rad(rad_deg(input_rad)))"
   ]
  },
  {
   "cell_type": "code",
   "execution_count": 44,
   "metadata": {},
   "outputs": [
    {
     "data": {
      "text/plain": [
       "6.283185307179586"
      ]
     },
     "execution_count": 44,
     "metadata": {},
     "output_type": "execute_result"
    }
   ],
   "source": [
    "deg = 180\n",
    "\n",
    "deg*np.pi/180"
   ]
  }
 ],
 "metadata": {
  "kernelspec": {
   "display_name": "Python 3",
   "language": "python",
   "name": "python3"
  },
  "language_info": {
   "codemirror_mode": {
    "name": "ipython",
    "version": 3
   },
   "file_extension": ".py",
   "mimetype": "text/x-python",
   "name": "python",
   "nbconvert_exporter": "python",
   "pygments_lexer": "ipython3",
   "version": "3.11.9"
  }
 },
 "nbformat": 4,
 "nbformat_minor": 2
}
