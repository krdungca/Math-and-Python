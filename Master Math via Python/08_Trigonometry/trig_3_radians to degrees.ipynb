{
 "cells": [
  {
   "cell_type": "code",
   "execution_count": 1,
   "metadata": {},
   "outputs": [],
   "source": [
    "import numpy as np\n",
    "import matplotlib.pyplot as plt"
   ]
  },
  {
   "cell_type": "code",
   "execution_count": 33,
   "metadata": {},
   "outputs": [],
   "source": [
    "def rad_deg(x):\n",
    "    num = float(x*(180/np.pi))\n",
    "    roundnum = np.round(num,2)\n",
    "    return float(roundnum)\n",
    "\n",
    "def deg_rad(x):\n",
    "    num = float(x*(np.pi/180))\n",
    "    roundnum = np.round(num,2)\n",
    "    return float(roundnum)"
   ]
  },
  {
   "cell_type": "code",
   "execution_count": 39,
   "metadata": {},
   "outputs": [
    {
     "name": "stdout",
     "output_type": "stream",
     "text": [
      "1.5707963267948966\n",
      "90.0\n",
      "1.57\n"
     ]
    }
   ],
   "source": [
    "input_rad = np.pi*0.5\n",
    "print(input_rad)\n",
    "\n",
    "print(rad_deg(input_rad))\n",
    "\n",
    "print(deg_rad(90))"
   ]
  }
 ],
 "metadata": {
  "kernelspec": {
   "display_name": "Python 3",
   "language": "python",
   "name": "python3"
  },
  "language_info": {
   "codemirror_mode": {
    "name": "ipython",
    "version": 3
   },
   "file_extension": ".py",
   "mimetype": "text/x-python",
   "name": "python",
   "nbconvert_exporter": "python",
   "pygments_lexer": "ipython3",
   "version": "3.11.9"
  }
 },
 "nbformat": 4,
 "nbformat_minor": 2
}
