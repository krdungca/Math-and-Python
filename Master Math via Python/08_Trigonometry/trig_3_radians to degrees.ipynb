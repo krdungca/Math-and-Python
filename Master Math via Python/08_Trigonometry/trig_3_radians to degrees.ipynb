{
 "cells": [
  {
   "cell_type": "markdown",
   "metadata": {},
   "source": [
    "if DEG TO RAD, use (deg * np.pi/180)% (2*np.pi) to determine the radian value scaled max to 1 complete rotation\n",
    "\n",
    "if RAD TO DEG, use (180 * rad/np.pi) % 360 to determine the radian value scaled max to 1 complete rotation\n",
    "\n",
    "We use MOD (%) operator since, when rotation > 360deg, the angle will be overflow, so the angle must be limited within 360deg.. and v.v. with radian counter-part\n",
    "\n",
    "For example:   \n",
    "\n",
    "405deg = 360deg + 45deg\n",
    "\n",
    "which means the angle with respect to x-axis of 405deg is 45deg\n",
    "\n"
   ]
  },
  {
   "cell_type": "code",
   "execution_count": 1,
   "metadata": {},
   "outputs": [],
   "source": [
    "import numpy as np\n",
    "import matplotlib.pyplot as plt"
   ]
  },
  {
   "cell_type": "code",
   "execution_count": 42,
   "metadata": {},
   "outputs": [],
   "source": [
    "def rad_deg(x):\n",
    "    num_itself = x*(180/np.pi)\n",
    "    roundnum = np.round(num_itself,2)\n",
    "\n",
    "    num_as_x = float((x*(180/np.pi))%360)\n",
    "    roundnum_x = np.round(num_as_x,2)\n",
    "\n",
    "    output = str('%s deg, %s deg (with respect to x-axis)'%(roundnum,roundnum_x))\n",
    "    return output\n",
    "\n",
    "def deg_rad(x):\n",
    "    num_itself = x*(np.pi/180)\n",
    "    roundnum = np.round(num_itself,2)\n",
    "\n",
    "    num_as_x = float((x*(np.pi/180))%(2*np.pi))\n",
    "    roundnum_x = np.round(num_as_x,2)\n",
    "\n",
    "    output = str('%s rad, %s rad (with respect to x-axis)'%(roundnum,roundnum_x))\n",
    "    return output"
   ]
  },
  {
   "cell_type": "code",
   "execution_count": 43,
   "metadata": {},
   "outputs": [
    {
     "name": "stdout",
     "output_type": "stream",
     "text": [
      "7.85 rad, 1.57 rad (with respect to x-axis)\n",
      "449.77 deg, 89.77 deg (with respect to x-axis)\n"
     ]
    }
   ],
   "source": [
    "print(deg_rad(450))\n",
    "print(rad_deg(7.85))"
   ]
  }
 ],
 "metadata": {
  "kernelspec": {
   "display_name": "Python 3",
   "language": "python",
   "name": "python3"
  },
  "language_info": {
   "codemirror_mode": {
    "name": "ipython",
    "version": 3
   },
   "file_extension": ".py",
   "mimetype": "text/x-python",
   "name": "python",
   "nbconvert_exporter": "python",
   "pygments_lexer": "ipython3",
   "version": "3.11.9"
  }
 },
 "nbformat": 4,
 "nbformat_minor": 2
}
