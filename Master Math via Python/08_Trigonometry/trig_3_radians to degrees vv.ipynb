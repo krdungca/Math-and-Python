{
 "cells": [
  {
   "cell_type": "markdown",
   "metadata": {},
   "source": [
    "if DEG TO RAD, use (deg * np.pi/180)% (2*np.pi) to determine the radian value scaled max to 1 complete rotation\n",
    "\n",
    "if RAD TO DEG, use (180 * rad/np.pi) % 360 to determine the radian value scaled max to 1 complete rotation\n",
    "\n",
    "We use MOD (%) operator since, when rotation > 360deg, the angle will be overflow, so the angle must be limited within 360deg.. and v.v. with radian counter-part\n",
    "\n",
    "For example:   \n",
    "\n",
    "405deg = 360deg + 45deg\n",
    "\n",
    "which means the angle with respect to x-axis of 405deg is 45deg\n",
    "\n"
   ]
  },
  {
   "cell_type": "code",
   "execution_count": 1,
   "metadata": {},
   "outputs": [],
   "source": [
    "import numpy as np\n",
    "import matplotlib.pyplot as plt"
   ]
  },
  {
   "cell_type": "code",
   "execution_count": 103,
   "metadata": {},
   "outputs": [],
   "source": [
    "def rad_deg(x):\n",
    "    num_itself = x*(180/np.pi)\n",
    "    roundnum = np.round(num_itself,2)\n",
    "\n",
    "    num_as_x = float((x*(180/np.pi))%360)\n",
    "    roundnum_x = np.round(num_as_x,2)\n",
    "\n",
    "    output = str('%s deg, %s deg (with respect to x-axis)'%(roundnum,roundnum_x))\n",
    "    return output\n",
    "\n",
    "def deg_rad(x):\n",
    "    num_itself = x*(np.pi/180)\n",
    "    roundnum = np.round(num_itself,2)\n",
    "\n",
    "    num_as_x = float((x*(np.pi/180))%(2*np.pi))\n",
    "    roundnum_x = np.round(num_as_x,2)\n",
    "\n",
    "    output = str('%s rad, %s rad (with respect to x-axis)'%(roundnum,roundnum_x))\n",
    "    return output"
   ]
  },
  {
   "cell_type": "code",
   "execution_count": 106,
   "metadata": {},
   "outputs": [
    {
     "name": "stdout",
     "output_type": "stream",
     "text": [
      "6.28 rad, 0.0 rad (with respect to x-axis)\n",
      "179.91 deg, 179.91 deg (with respect to x-axis)\n"
     ]
    }
   ],
   "source": [
    "print(deg_rad(360))\n",
    "print(rad_deg(3.14))"
   ]
  },
  {
   "cell_type": "code",
   "execution_count": 5,
   "metadata": {},
   "outputs": [
    {
     "data": {
      "text/plain": [
       "np.float64(155.66201561774096)"
      ]
     },
     "execution_count": 5,
     "metadata": {},
     "output_type": "execute_result"
    }
   ],
   "source": [
    "#built-in numpy fxn\n",
    "\n",
    "#np.deg2rad()\n",
    "\n",
    "#np.rad2deg()\n"
   ]
  },
  {
   "cell_type": "code",
   "execution_count": 231,
   "metadata": {},
   "outputs": [],
   "source": [
    "#exercise\n",
    "\n",
    "#angle convert plot\n",
    "def rad_deg(x):\n",
    "    num_itself = x*(180/np.pi)\n",
    "    roundnum = np.round(num_itself,2)\n",
    "\n",
    "    num_as_x = float((x*(180/np.pi))%360)\n",
    "    roundnum_x = np.round(num_as_x,2)\n",
    "    \n",
    "    output=[]\n",
    "    output.append([roundnum,roundnum_x])\n",
    "    return output\n",
    "\n",
    "def deg_rad(x):\n",
    "    num_itself = x*(np.pi/180)\n",
    "    roundnum = np.round(num_itself,2)\n",
    "\n",
    "    num_as_x = float((x*(np.pi/180))%(2*np.pi))\n",
    "    roundnum_x = np.round(num_as_x,2)\n",
    "\n",
    "    output=[]\n",
    "\n",
    "    output.append([roundnum,roundnum_x])\n",
    "    \n",
    "    return output\n",
    "\n",
    "def angle_convert_plot(numval,unitval):\n",
    "    #conditionals\n",
    "    if unitval == 'radian': \n",
    "        finalval = 0\n",
    "        print('converted to DEGREE: %s, %s with respect to x' %(rad_deg(numval)[0][0],rad_deg(numval)[0][1]))\n",
    "\n",
    "        finalval = rad_deg(numval)[0][0]\n",
    "        drawval = deg_rad(finalval)[0][0]\n",
    "        \n",
    "    elif unitval == 'degree':\n",
    "        finalval = 0\n",
    "        print('converted to RADIAN: %s, %s with respect to x'%(deg_rad(numval)[0][0],deg_rad(numval)[0][1]))\n",
    "        finalval = deg_rad(numval)[0][0]\n",
    "        drawval = finalval\n",
    "\n",
    "    else:\n",
    "        raise ValueError('WRONG UNIT!')\n",
    "    \n",
    "    #plot-base-segment\n",
    "    x_base = np.linspace(0,2*np.pi,100)\n",
    "    plt.axis([-1,1,-1,1])\n",
    "    plt.axis('square')\n",
    "    plt.plot([0,np.cos(x_base[0])],[0,0])\n",
    "    plt.grid()\n",
    "\n",
    "    #plot-input-angle\n",
    "    plt.plot([0,np.cos(drawval)],[0,np.sin(drawval)])\n",
    "\n",
    "    #plot-angle-arrow\n",
    "    x_base = np.linspace(0,drawval,100)\n",
    "    plt.plot(np.cos(x_base)/3.5,np.sin(x_base)/3.5,'k-',linewidth=0.5)\n"
   ]
  },
  {
   "cell_type": "code",
   "execution_count": 1,
   "metadata": {},
   "outputs": [
    {
     "ename": "NameError",
     "evalue": "name 'angle_convert_plot' is not defined",
     "output_type": "error",
     "traceback": [
      "\u001b[1;31m---------------------------------------------------------------------------\u001b[0m",
      "\u001b[1;31mNameError\u001b[0m                                 Traceback (most recent call last)",
      "Cell \u001b[1;32mIn[1], line 1\u001b[0m\n\u001b[1;32m----> 1\u001b[0m \u001b[43mangle_convert_plot\u001b[49m(\u001b[38;5;241m40\u001b[39m,\u001b[38;5;124m'\u001b[39m\u001b[38;5;124mdegree\u001b[39m\u001b[38;5;124m'\u001b[39m) \n",
      "\u001b[1;31mNameError\u001b[0m: name 'angle_convert_plot' is not defined"
     ]
    }
   ],
   "source": [
    "angle_convert_plot(40,'degree') "
   ]
  }
 ],
 "metadata": {
  "kernelspec": {
   "display_name": "Python 3",
   "language": "python",
   "name": "python3"
  },
  "language_info": {
   "codemirror_mode": {
    "name": "ipython",
    "version": 3
   },
   "file_extension": ".py",
   "mimetype": "text/x-python",
   "name": "python",
   "nbconvert_exporter": "python",
   "pygments_lexer": "ipython3",
   "version": "3.11.9"
  }
 },
 "nbformat": 4,
 "nbformat_minor": 2
}
