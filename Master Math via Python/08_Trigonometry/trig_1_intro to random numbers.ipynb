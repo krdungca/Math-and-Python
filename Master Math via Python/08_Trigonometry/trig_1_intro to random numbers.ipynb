{
 "cells": [
  {
   "cell_type": "markdown",
   "metadata": {},
   "source": [
    "**Random Numbers**\n",
    "\n",
    "2 types of distributions:\n",
    "    normal (gaussian)\n",
    "    uniform"
   ]
  }
 ],
 "metadata": {
  "language_info": {
   "name": "python"
  }
 },
 "nbformat": 4,
 "nbformat_minor": 2
}
