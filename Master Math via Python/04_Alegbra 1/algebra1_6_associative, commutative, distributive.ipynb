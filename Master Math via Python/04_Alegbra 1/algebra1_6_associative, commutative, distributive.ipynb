{
 "cells": [
  {
   "cell_type": "code",
   "execution_count": 74,
   "metadata": {},
   "outputs": [],
   "source": [
    "import sympy as sym\n",
    "from IPython.display import display,Math\n",
    "import numpy as np\n",
    "\n",
    "\n",
    "from sympy.abc import x,y"
   ]
  },
  {
   "cell_type": "code",
   "execution_count": 75,
   "metadata": {},
   "outputs": [
    {
     "data": {
      "text/latex": [
       "$\\displaystyle \\text{True}$"
      ],
      "text/plain": [
       "True"
      ]
     },
     "execution_count": 75,
     "metadata": {},
     "output_type": "execute_result"
    }
   ],
   "source": [
    "#associative\n",
    "expr1  = x*(4*y)\n",
    "expr2 = (x*4)*y\n",
    "\n",
    "sym.Eq(expr1, expr2)"
   ]
  },
  {
   "cell_type": "code",
   "execution_count": 76,
   "metadata": {},
   "outputs": [
    {
     "data": {
      "text/latex": [
       "$\\displaystyle 24$"
      ],
      "text/plain": [
       "24"
      ]
     },
     "metadata": {},
     "output_type": "display_data"
    },
    {
     "data": {
      "text/latex": [
       "$\\displaystyle 24$"
      ],
      "text/plain": [
       "24"
      ]
     },
     "metadata": {},
     "output_type": "display_data"
    },
    {
     "data": {
      "text/latex": [
       "$\\displaystyle 24$"
      ],
      "text/plain": [
       "24"
      ]
     },
     "metadata": {},
     "output_type": "display_data"
    }
   ],
   "source": [
    "#commutative\n",
    "\n",
    "e1 = 4*x*y\n",
    "e2 = x*4*y\n",
    "e3 = y*x*4\n",
    "\n",
    "eq_set = [e1,e2,e3]\n",
    "\n",
    "for i in eq_set:\n",
    "    display(i.subs({x:3,y:2}))\n",
    "\n"
   ]
  },
  {
   "cell_type": "code",
   "execution_count": 77,
   "metadata": {},
   "outputs": [
    {
     "data": {
      "text/latex": [
       "$\\displaystyle a c + a d$"
      ],
      "text/plain": [
       "a⋅c + a⋅d"
      ]
     },
     "execution_count": 77,
     "metadata": {},
     "output_type": "execute_result"
    }
   ],
   "source": [
    "#distributive\n",
    "\n",
    "a,b,c,d = sym.symbols('a,b,c,d')\n",
    "\n",
    "e1 = (a)*(c+d)\n",
    "\n",
    "sym.expand(e1)"
   ]
  },
  {
   "cell_type": "code",
   "execution_count": null,
   "metadata": {},
   "outputs": [],
   "source": []
  },
  {
   "cell_type": "code",
   "execution_count": 158,
   "metadata": {},
   "outputs": [
    {
     "data": {
      "text/latex": [
       "$\\displaystyle f_1 \\times f_2 = [x \\left(y + z\\right)] \\times [x^{2} + \\frac{3}{x}]$"
      ],
      "text/plain": [
       "<IPython.core.display.Math object>"
      ]
     },
     "metadata": {},
     "output_type": "display_data"
    },
    {
     "data": {
      "text/latex": [
       "$\\displaystyle x = w \\left(4 - w\\right) + \\frac{w + 1}{w^{2}}$"
      ],
      "text/plain": [
       "<IPython.core.display.Math object>"
      ]
     },
     "metadata": {},
     "output_type": "display_data"
    },
    {
     "name": "stdout",
     "output_type": "stream",
     "text": [
      "\n",
      "Simplified f3(x)\n"
     ]
    },
    {
     "data": {
      "text/latex": [
       "$\\displaystyle f_3 = f_1 \\times f_2 = x^{3} y + x^{3} z + 3 y + 3 z$"
      ],
      "text/plain": [
       "<IPython.core.display.Math object>"
      ]
     },
     "metadata": {},
     "output_type": "display_data"
    },
    {
     "data": {
      "text/latex": [
       "$\\displaystyle f_3(x) = \\frac{\\left(3 w^{6} + \\left(- w^{3} \\left(w - 4\\right) + w + 1\\right)^{3}\\right) \\left(y + z\\right)}{w^{6}}$"
      ],
      "text/plain": [
       "<IPython.core.display.Math object>"
      ]
     },
     "metadata": {},
     "output_type": "display_data"
    }
   ],
   "source": [
    "#implement in python\n",
    "\n",
    "w,x,y,z = sym.symbols('w,x,y,z')\n",
    "\n",
    "f1 = x*(y+z)\n",
    "f2 = (3/x)+x**2\n",
    "x = w*(4-w) + (1/w**2)*(1+w)\n",
    "\n",
    "def function_f1(x):\n",
    "    return x*(y+z)\n",
    "\n",
    "def function_f2(x):\n",
    "    return (3/x)+x**2\n",
    "\n",
    "\n",
    "#display f1*f2\n",
    "\n",
    "display(Math('f_1 \\\\times f_2 = [%s] \\\\times [%s]' %(sym.latex(f1), sym.latex(f2))))\n",
    "display(Math('x = %s' %sym.latex(x)))\n",
    "\n",
    "#simplify f1 * f2\n",
    "print('\\nSimplified f3(x)')\n",
    "f3 = sym.expand(f1*f2)\n",
    "display(Math('f_3 = f_1 \\\\times f_2 = %s' %(sym.latex(f3))))\n",
    "\n",
    "f3x = sym.simplify(function_f1(x)*function_f2(x))\n",
    "\n",
    "display(Math('f_3(x) = %s' %(sym.latex(f3x))))\n"
   ]
  },
  {
   "cell_type": "code",
   "execution_count": 163,
   "metadata": {},
   "outputs": [
    {
     "data": {
      "text/latex": [
       "$\\displaystyle 0$"
      ],
      "text/plain": [
       "0"
      ]
     },
     "execution_count": 163,
     "metadata": {},
     "output_type": "execute_result"
    }
   ],
   "source": [
    "x,y,z,w = sym.symbols('x y z w')\n",
    "\n",
    "x = w*(4-w) + (1/w**2)*(1+w)\n",
    "f1 = x*(y+z)\n",
    "f2 = (3/x)+x**2\n",
    "\n",
    "\n",
    "f1*f2 #displays values as it is \n",
    "\n",
    "sym.simplify(f1*f2)\n",
    "\n",
    "\n",
    "sym.simplify(f1*f2 - f2*f1)\n"
   ]
  }
 ],
 "metadata": {
  "kernelspec": {
   "display_name": "Python 3",
   "language": "python",
   "name": "python3"
  },
  "language_info": {
   "codemirror_mode": {
    "name": "ipython",
    "version": 3
   },
   "file_extension": ".py",
   "mimetype": "text/x-python",
   "name": "python",
   "nbconvert_exporter": "python",
   "pygments_lexer": "ipython3",
   "version": "3.11.9"
  }
 },
 "nbformat": 4,
 "nbformat_minor": 2
}
