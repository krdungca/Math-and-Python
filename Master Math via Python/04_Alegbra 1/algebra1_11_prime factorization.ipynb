{
 "cells": [
  {
   "cell_type": "code",
   "execution_count": 10,
   "metadata": {},
   "outputs": [],
   "source": [
    "import sympy as sym"
   ]
  },
  {
   "cell_type": "code",
   "execution_count": 11,
   "metadata": {},
   "outputs": [
    {
     "data": {
      "text/plain": [
       "{2: 3}"
      ]
     },
     "execution_count": 11,
     "metadata": {},
     "output_type": "execute_result"
    }
   ],
   "source": [
    "number = 8\n",
    "\n",
    "factor_dict = sym.factorint(number)\n",
    "\n",
    "factor_dict\n",
    "\n",
    "#output >> {2: 3} --> key:2 value is 3, which means 2*2*2"
   ]
  },
  {
   "cell_type": "code",
   "execution_count": 12,
   "metadata": {},
   "outputs": [
    {
     "name": "stdout",
     "output_type": "stream",
     "text": [
      "{2: 4, 3: 1}\n",
      "dict_keys([2, 3])\n"
     ]
    },
    {
     "data": {
      "text/plain": [
       "[4, 1]"
      ]
     },
     "execution_count": 12,
     "metadata": {},
     "output_type": "execute_result"
    }
   ],
   "source": [
    "number = 48\n",
    "\n",
    "factor_dict = sym.factorint(number)\n",
    "\n",
    "factor_dict\n",
    "\n",
    "#output >> {2: 3} --> key:2 value is 3, which means 2*2*2\n",
    "\n",
    "print(factor_dict)\n",
    "\n",
    "print(factor_dict.keys()) #displays the keys, in this context (prime_factors)\n",
    "\n",
    "list(factor_dict.values()) #convert into a list, displaying the values of each key\n",
    "\n",
    "#prime is defined as (in this context);\n",
    "#prime = the number has only 1 key, and the value only 1"
   ]
  },
  {
   "cell_type": "code",
   "execution_count": 41,
   "metadata": {},
   "outputs": [
    {
     "name": "stdout",
     "output_type": "stream",
     "text": [
      "2 is a prime number\n",
      "3 is a prime number\n",
      "4 is a composite number with prime factors [2]\n",
      "5 is a prime number\n",
      "6 is a composite number with prime factors [2, 3]\n",
      "7 is a prime number\n",
      "8 is a composite number with prime factors [2]\n",
      "9 is a composite number with prime factors [3]\n",
      "10 is a composite number with prime factors [2, 5]\n",
      "11 is a prime number\n",
      "12 is a composite number with prime factors [2, 3]\n",
      "13 is a prime number\n",
      "14 is a composite number with prime factors [2, 7]\n",
      "15 is a composite number with prime factors [3, 5]\n",
      "16 is a composite number with prime factors [2]\n",
      "17 is a prime number\n",
      "18 is a composite number with prime factors [2, 3]\n",
      "19 is a prime number\n",
      "20 is a composite number with prime factors [2, 5]\n",
      "21 is a composite number with prime factors [3, 7]\n",
      "22 is a composite number with prime factors [2, 11]\n",
      "23 is a prime number\n",
      "24 is a composite number with prime factors [2, 3]\n",
      "25 is a composite number with prime factors [5]\n",
      "26 is a composite number with prime factors [2, 13]\n",
      "27 is a composite number with prime factors [3]\n",
      "28 is a composite number with prime factors [2, 7]\n",
      "29 is a prime number\n",
      "30 is a composite number with prime factors [2, 3, 5]\n",
      "31 is a prime number\n",
      "32 is a composite number with prime factors [2]\n",
      "33 is a composite number with prime factors [3, 11]\n",
      "34 is a composite number with prime factors [2, 17]\n",
      "35 is a composite number with prime factors [5, 7]\n",
      "36 is a composite number with prime factors [2, 3]\n",
      "37 is a prime number\n",
      "38 is a composite number with prime factors [2, 19]\n",
      "39 is a composite number with prime factors [3, 13]\n",
      "40 is a composite number with prime factors [2, 5]\n",
      "41 is a prime number\n",
      "42 is a composite number with prime factors [2, 3, 7]\n",
      "43 is a prime number\n",
      "44 is a composite number with prime factors [2, 11]\n",
      "45 is a composite number with prime factors [3, 5]\n",
      "46 is a composite number with prime factors [2, 23]\n",
      "47 is a prime number\n",
      "48 is a composite number with prime factors [2, 3]\n",
      "49 is a composite number with prime factors [7]\n",
      "50 is a composite number with prime factors [2, 5]\n"
     ]
    }
   ],
   "source": [
    "#loop through 2 to 50 (1 is not a prime number)\n",
    "#use functions factorint, list, len, if/else,print\n",
    "#output: [number] is a prime number \n",
    "#output: [number] is a composite number with prime factors [a,b]\n",
    "\n",
    "prime_range = range(2,51)\n",
    "\n",
    "for i in prime_range:\n",
    "    i_factordict = sym.factorint(i)\n",
    "    i_primefactors = list(i_factordict.keys())\n",
    "    if len(i_factordict)==1 and i_factordict[i_primefactors[0]] == 1:\n",
    "        print(str(i) + ' is a prime number')\n",
    "    else:\n",
    "        print(str(i) + ' is a composite number with prime factors %s'%(list(i_primefactors)))\n",
    "    \n",
    "    # print(i, list(i_factordict.keys()), len(i_factordict.keys()), len(i_factordict.values()))"
   ]
  }
 ],
 "metadata": {
  "kernelspec": {
   "display_name": "Python 3",
   "language": "python",
   "name": "python3"
  },
  "language_info": {
   "codemirror_mode": {
    "name": "ipython",
    "version": 3
   },
   "file_extension": ".py",
   "mimetype": "text/x-python",
   "name": "python",
   "nbconvert_exporter": "python",
   "pygments_lexer": "ipython3",
   "version": "3.11.9"
  }
 },
 "nbformat": 4,
 "nbformat_minor": 2
}
