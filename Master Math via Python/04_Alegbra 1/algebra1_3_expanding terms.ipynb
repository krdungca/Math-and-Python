{
 "cells": [
  {
   "cell_type": "code",
   "execution_count": 1,
   "metadata": {},
   "outputs": [],
   "source": [
    "import sympy as sym\n",
    "from IPython.display import display,Math\n",
    "sym.init_printing()"
   ]
  },
  {
   "cell_type": "code",
   "execution_count": 15,
   "metadata": {},
   "outputs": [
    {
     "data": {
      "text/latex": [
       "$\\displaystyle 4 x^{2} + 5 x$"
      ],
      "text/plain": [
       "<IPython.core.display.Math object>"
      ]
     },
     "metadata": {},
     "output_type": "display_data"
    }
   ],
   "source": [
    "from sympy.abc import x,y\n",
    "\n",
    "term1 = 4*x + 5\n",
    "term2 = x\n",
    "\n",
    "display(Math(sym.latex(sym.expand(term1 * term2))))\n"
   ]
  },
  {
   "cell_type": "code",
   "execution_count": 14,
   "metadata": {},
   "outputs": [
    {
     "data": {
      "text/latex": [
       "$\\displaystyle \\left(x - 7\\right) \\left(4 x + 5\\right)$"
      ],
      "text/plain": [
       "<IPython.core.display.Math object>"
      ]
     },
     "metadata": {},
     "output_type": "display_data"
    },
    {
     "data": {
      "text/latex": [
       "$\\displaystyle 4 x^{2} - 23 x - 35$"
      ],
      "text/plain": [
       "<IPython.core.display.Math object>"
      ]
     },
     "metadata": {},
     "output_type": "display_data"
    }
   ],
   "source": [
    "term3 = x - 7 \n",
    "\n",
    "display(Math(sym.latex(term1*term3)))\n",
    "display(Math(sym.latex(sym.expand(term1*term3))))"
   ]
  },
  {
   "cell_type": "code",
   "execution_count": 21,
   "metadata": {},
   "outputs": [
    {
     "data": {
      "text/latex": [
       "$\\displaystyle x \\left(- \\frac{5^{x}}{x} + 2 y^{2}\\right)$"
      ],
      "text/plain": [
       "  ⎛   x       ⎞\n",
       "  ⎜  5       2⎟\n",
       "x⋅⎜- ── + 2⋅y ⎟\n",
       "  ⎝  x        ⎠"
      ]
     },
     "metadata": {},
     "output_type": "display_data"
    },
    {
     "data": {
      "text/latex": [
       "$\\displaystyle - 5^{x} + 2 x y^{2}$"
      ],
      "text/plain": [
       "   x        2\n",
       "- 5  + 2⋅x⋅y "
      ]
     },
     "metadata": {},
     "output_type": "display_data"
    }
   ],
   "source": [
    "expr = x*(2*y**2 - 5**x/x)\n",
    "\n",
    "display(expr)\n",
    "expr = sym.expand(expr)\n",
    "\n",
    "display(expr)\n"
   ]
  },
  {
   "cell_type": "code",
   "execution_count": 22,
   "metadata": {},
   "outputs": [
    {
     "name": "stdout",
     "output_type": "stream",
     "text": [
      "Variable   Type        Data/Info\n",
      "--------------------------------\n",
      "Math       type        <class 'IPython.core.display.Math'>\n",
      "display    function    <function display at 0x0000020300C25260>\n",
      "expr       Add         -5**x + 2*x*y**2\n",
      "sym        module      <module 'sympy' from 'C:\\<...>ges\\\\sympy\\\\__init__.py'>\n",
      "term1      Add         4*x + 5\n",
      "term2      Symbol      x\n",
      "term3      Add         x - 7\n",
      "x          Symbol      x\n",
      "y          Symbol      y\n"
     ]
    }
   ],
   "source": [
    "%whos"
   ]
  },
  {
   "cell_type": "code",
   "execution_count": 41,
   "metadata": {},
   "outputs": [
    {
     "name": "stdout",
     "output_type": "stream",
     "text": [
      "When x=0 and y=0, f(x,y)=8\n",
      "When x=0 and y=1, f(x,y)=4\n",
      "When x=0 and y=2, f(x,y)=0\n",
      "When x=1 and y=0, f(x,y)=10\n",
      "When x=1 and y=1, f(x,y)=5\n",
      "When x=1 and y=2, f(x,y)=0\n",
      "When x=2 and y=0, f(x,y)=12\n",
      "When x=2 and y=1, f(x,y)=6\n",
      "When x=2 and y=2, f(x,y)=0\n"
     ]
    }
   ],
   "source": [
    "#f(x,y) = (4 + x) ( 2 - y )\n",
    "#x,y E {0,1,2}\n",
    "#output: When x=0 and y=0, f(x,y)=8, loop through all elements \n",
    "from sympy.abc import x,y\n",
    "\n",
    "def function1(x,y):\n",
    "    ans = (4+x)*(2-y)\n",
    "    ans_expanded = sym.expand(ans)\n",
    "    return sym.simplify(ans_expanded)\n",
    "\n",
    "for i in range(0,3):\n",
    "    for j in range(0,3):\n",
    "        print('When x=%g and y=%g, f(x,y)=%g' %(i,j,function1(i,j)))"
   ]
  },
  {
   "cell_type": "code",
   "execution_count": 43,
   "metadata": {},
   "outputs": [
    {
     "data": {
      "text/latex": [
       "$\\displaystyle 10$"
      ],
      "text/plain": [
       "10"
      ]
     },
     "execution_count": 43,
     "metadata": {},
     "output_type": "execute_result"
    }
   ],
   "source": [
    "Fxy = (4+x)*(2-y)\n",
    "\n",
    "Fxy.subs({x:1,y:0})\n"
   ]
  }
 ],
 "metadata": {
  "kernelspec": {
   "display_name": "Python 3",
   "language": "python",
   "name": "python3"
  },
  "language_info": {
   "codemirror_mode": {
    "name": "ipython",
    "version": 3
   },
   "file_extension": ".py",
   "mimetype": "text/x-python",
   "name": "python",
   "nbconvert_exporter": "python",
   "pygments_lexer": "ipython3",
   "version": "3.11.9"
  }
 },
 "nbformat": 4,
 "nbformat_minor": 2
}
