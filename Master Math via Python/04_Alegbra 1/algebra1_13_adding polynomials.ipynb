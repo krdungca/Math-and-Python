{
 "cells": [
  {
   "cell_type": "code",
   "execution_count": 2,
   "metadata": {},
   "outputs": [],
   "source": [
    "import sympy as sym\n",
    "from IPython.display import display, Math\n",
    "\n",
    "from sympy.abc import x,y,z\n"
   ]
  },
  {
   "cell_type": "code",
   "execution_count": 3,
   "metadata": {},
   "outputs": [
    {
     "data": {
      "text/latex": [
       "$\\displaystyle 12.4 x^{3} + 0.833333333333333 x^{2} - 5 x + 3$"
      ],
      "text/plain": [
       "12.4*x**3 + 0.833333333333333*x**2 - 5*x + 3"
      ]
     },
     "metadata": {},
     "output_type": "display_data"
    },
    {
     "data": {
      "text/latex": [
       "$\\displaystyle x^{3} + 2 x$"
      ],
      "text/plain": [
       "x**3 + 2*x"
      ]
     },
     "metadata": {},
     "output_type": "display_data"
    }
   ],
   "source": [
    "pol1 = 3-5*x+5/6*x**2+12.4*x**3\n",
    "pol2 = 2*x+x**3\n",
    "\n",
    "display(pol1,pol2)"
   ]
  },
  {
   "cell_type": "code",
   "execution_count": 4,
   "metadata": {},
   "outputs": [
    {
     "data": {
      "text/latex": [
       "$\\displaystyle - x^{4} + 3 x^{3} - 3 x^{2} - x$"
      ],
      "text/plain": [
       "-x**4 + 3*x**3 - 3*x**2 - x"
      ]
     },
     "metadata": {},
     "output_type": "display_data"
    }
   ],
   "source": [
    "p1 = 2*x**3 + x**2 -x\n",
    "p2 = x**3 - x**4 - 4*x**2\n",
    "\n",
    "display(p1+p2)"
   ]
  },
  {
   "cell_type": "code",
   "execution_count": 5,
   "metadata": {},
   "outputs": [
    {
     "data": {
      "text/latex": [
       "$\\displaystyle 60$"
      ],
      "text/plain": [
       "60"
      ]
     },
     "execution_count": 5,
     "metadata": {},
     "output_type": "execute_result"
    }
   ],
   "source": [
    "p1 = sym.Poly(2*x**3 + x**2 - x)   # outputs Poly(2x^3 +x^2 −x, x, domain=Z), domain--> the coefficients are INTEGERS\n",
    "\n",
    "\n",
    "p1.eval(3) #evaluates to exact value, requires value input in the function\n",
    "\n",
    "# p1.coeffs() #coefficients of polynomial (starting from the highest order)"
   ]
  },
  {
   "cell_type": "code",
   "execution_count": 6,
   "metadata": {},
   "outputs": [
    {
     "data": {
      "text/latex": [
       "$\\displaystyle degree \\,\\, is \\,2 \\quad  even \\quad  x^{2} + 2 x \\quad coeff \\,\\, sum \\,\\,is \\,\\, 3$"
      ],
      "text/plain": [
       "<IPython.core.display.Math object>"
      ]
     },
     "metadata": {},
     "output_type": "display_data"
    },
    {
     "data": {
      "text/latex": [
       "$\\displaystyle degree \\,\\, is \\,3 \\quad  odd \\quad  - x^{3} + 4 x \\quad coeff \\,\\, count \\,\\, is \\,\\, 2$"
      ],
      "text/plain": [
       "<IPython.core.display.Math object>"
      ]
     },
     "metadata": {},
     "output_type": "display_data"
    },
    {
     "data": {
      "text/latex": [
       "$\\displaystyle degree \\,\\, is \\,5 \\quad  odd \\quad  x^{5} - x^{4} + \\frac{x}{4} + 4 \\quad coeff \\,\\, count \\,\\, is \\,\\, 4$"
      ],
      "text/plain": [
       "<IPython.core.display.Math object>"
      ]
     },
     "metadata": {},
     "output_type": "display_data"
    }
   ],
   "source": [
    "#implement the ff polynomial as a list\n",
    "#for each polynomial,\n",
    "#     if degree is even, sum the coefficients\n",
    "#     if degree is odd, count the coefficients\n",
    "\n",
    "p1 = x**2 + 2*x\n",
    "p2 = -x**3 + 4*x\n",
    "p3 = x**5 - x**4 + x/4 + 4\n",
    "\n",
    "EQLIST = dict(eq=[p1,p2,p3],test=[])\n",
    "\n",
    "keySelector= str(list(EQLIST.keys())[0])\n",
    "\n",
    "for i in EQLIST[keySelector]:\n",
    "    j = i\n",
    "    i = sym.Poly(i)\n",
    "\n",
    "    coeffs_add = sum(i.coeffs())\n",
    "    coeffs_count = len(i.coeffs())\n",
    "        \n",
    "    if i.degree() % 2 == 0:\n",
    "        display(Math('degree \\,\\, is \\,%g \\\\quad  even \\\\quad  %s \\\\quad coeff \\,\\, sum \\,\\,is \\,\\, %g' %(i.degree(),sym.latex(j),coeffs_add)))    \n",
    "    else:\n",
    "        display(Math('degree \\,\\, is \\,%g \\\\quad  odd \\\\quad  %s \\\\quad coeff \\,\\, count \\,\\, is \\,\\, %g' %(i.degree(),sym.latex(j),coeffs_count)))    "
   ]
  },
  {
   "cell_type": "code",
   "execution_count": 7,
   "metadata": {},
   "outputs": [
    {
     "data": {
      "text/latex": [
       "$\\displaystyle x^{2} + 2 x$"
      ],
      "text/plain": [
       "x**2 + 2*x"
      ]
     },
     "execution_count": 7,
     "metadata": {},
     "output_type": "execute_result"
    }
   ],
   "source": [
    "p1 = sym.poly(p1)\n",
    "\n",
    "p1.as_expr()# convert sym.poly() into an expression only  "
   ]
  }
 ],
 "metadata": {
  "kernelspec": {
   "display_name": "Python 3",
   "language": "python",
   "name": "python3"
  },
  "language_info": {
   "codemirror_mode": {
    "name": "ipython",
    "version": 3
   },
   "file_extension": ".py",
   "mimetype": "text/x-python",
   "name": "python",
   "nbconvert_exporter": "python",
   "pygments_lexer": "ipython3",
   "version": "3.11.9"
  }
 },
 "nbformat": 4,
 "nbformat_minor": 2
}
