{
 "cells": [
  {
   "cell_type": "code",
   "execution_count": 1,
   "metadata": {},
   "outputs": [],
   "source": [
    "import sympy as sym\n",
    "from IPython.display import display,Math\n",
    "import numpy as np"
   ]
  },
  {
   "cell_type": "code",
   "execution_count": 34,
   "metadata": {},
   "outputs": [
    {
     "data": {
      "text/plain": [
       "[6, 7]"
      ]
     },
     "execution_count": 34,
     "metadata": {},
     "output_type": "execute_result"
    }
   ],
   "source": [
    "lst = [1,3,6,7,1,3,6,7,1,3,6,7,1,3,6,7]\n",
    "lst[-1]\n",
    "\n",
    "lst[:2] #print first 2 or N elements\n",
    "\n",
    "k= 2\n",
    "\n",
    "lst[-k:] #from the 2nd last element until the end -->"
   ]
  },
  {
   "cell_type": "code",
   "execution_count": 35,
   "metadata": {},
   "outputs": [
    {
     "name": "stdout",
     "output_type": "stream",
     "text": [
      "[1, 3, 6, 7, 1, 3, 6, 7, 1, 3, 6, 7, 1, 3, 6, 7]\n"
     ]
    },
    {
     "data": {
      "text/plain": [
       "[7, 1, 3, 6]"
      ]
     },
     "execution_count": 35,
     "metadata": {},
     "output_type": "execute_result"
    }
   ],
   "source": [
    "n = 3\n",
    "k = 7\n",
    "print(lst)\n",
    "lst[n:k]"
   ]
  },
  {
   "cell_type": "code",
   "execution_count": 39,
   "metadata": {},
   "outputs": [
    {
     "data": {
      "text/plain": [
       "5"
      ]
     },
     "execution_count": 39,
     "metadata": {},
     "output_type": "execute_result"
    }
   ],
   "source": [
    "alist = [1,2,3,[5,6,7]]\n",
    "\n",
    "alist[-1][0]  #access the 0th index of the inner list"
   ]
  },
  {
   "cell_type": "code",
   "execution_count": 55,
   "metadata": {},
   "outputs": [
    {
     "data": {
      "text/latex": [
       "$\\displaystyle x \\left(7 - 6 x\\right)$"
      ],
      "text/plain": [
       "x*(7 - 6*x)"
      ]
     },
     "metadata": {},
     "output_type": "display_data"
    },
    {
     "data": {
      "text/latex": [
       "$\\displaystyle - \\frac{7}{4} - \\frac{3}{x}$"
      ],
      "text/plain": [
       "-7/4 - 3/x"
      ]
     },
     "metadata": {},
     "output_type": "display_data"
    },
    {
     "data": {
      "text/latex": [
       "$\\displaystyle \\frac{x^{2}}{9} - 1$"
      ],
      "text/plain": [
       "x**2/9 - 1"
      ]
     },
     "metadata": {},
     "output_type": "display_data"
    }
   ],
   "source": [
    "from sympy.abc import x\n",
    "\n",
    "eq1 = 2*x + x*(4-6*x) + x\n",
    "eq2 = -x*(2/x + 4/x**2)+((4+x)/(4*x))\n",
    "eq3 = (x+3)*(x-3)*x*(1/(9*x))\n",
    "\n",
    "eq_lst = [eq1,eq2,eq3]\n",
    "\n",
    "for i in eq_lst:\n",
    "    display(sym.simplify(sym.expand(i)))\n",
    "    \n"
   ]
  }
 ],
 "metadata": {
  "kernelspec": {
   "display_name": "Python 3",
   "language": "python",
   "name": "python3"
  },
  "language_info": {
   "codemirror_mode": {
    "name": "ipython",
    "version": 3
   },
   "file_extension": ".py",
   "mimetype": "text/x-python",
   "name": "python",
   "nbconvert_exporter": "python",
   "pygments_lexer": "ipython3",
   "version": "3.11.9"
  }
 },
 "nbformat": 4,
 "nbformat_minor": 2
}
