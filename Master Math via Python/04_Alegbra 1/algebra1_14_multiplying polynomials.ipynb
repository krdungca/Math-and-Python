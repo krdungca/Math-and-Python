{
 "cells": [
  {
   "cell_type": "code",
   "execution_count": 2,
   "metadata": {},
   "outputs": [],
   "source": [
    "import sympy as sym\n",
    "from IPython.display import display, Math"
   ]
  },
  {
   "cell_type": "code",
   "execution_count": 10,
   "metadata": {},
   "outputs": [
    {
     "data": {
      "text/latex": [
       "$\\displaystyle \\left(4 x^{2} - 2 x\\right) \\left(x^{3} - 1\\right)$"
      ],
      "text/plain": [
       "(4*x**2 - 2*x)*(x**3 - 1)"
      ]
     },
     "metadata": {},
     "output_type": "display_data"
    },
    {
     "data": {
      "text/latex": [
       "$\\displaystyle 4 x^{5} - 2 x^{4} - 4 x^{2} + 2 x$"
      ],
      "text/plain": [
       "4*x**5 - 2*x**4 - 4*x**2 + 2*x"
      ]
     },
     "metadata": {},
     "output_type": "display_data"
    }
   ],
   "source": [
    "x = sym.symbols('x')\n",
    "\n",
    "x**5 * x**3\n",
    "\n",
    "\n",
    "p1 = 4*x**2 -2*x\n",
    "p2 = x**3 -1\n",
    "\n",
    "p3 = p1*p2\n",
    "\n",
    "display(p3)\n",
    "display(sym.expand(p3))"
   ]
  },
  {
   "cell_type": "code",
   "execution_count": 39,
   "metadata": {},
   "outputs": [
    {
     "data": {
      "text/latex": [
       "$\\displaystyle -1.08583e+06 = -1.08583e+06$"
      ],
      "text/plain": [
       "<IPython.core.display.Math object>"
      ]
     },
     "metadata": {},
     "output_type": "display_data"
    },
    {
     "data": {
      "text/latex": [
       "$\\displaystyle \\text{True}$"
      ],
      "text/plain": [
       "True"
      ]
     },
     "execution_count": 39,
     "metadata": {},
     "output_type": "execute_result"
    }
   ],
   "source": [
    "x,y = sym.symbols('x,y')\n",
    "fxy = 4*x**4 - 3*x**2  + x*y**2 - 9*y**3\n",
    "gxy = -x**3 + 6*x**2*y + 0.8*y**3\n",
    "\n",
    "#multiply -- subs x = 5   y = -2\n",
    "direct_mult = sym.expand(fxy*gxy)\n",
    "mult_subs = direct_mult.subs({x:5, y:-2})\n",
    "\n",
    "#subs x = 5   y = -2--- multiply\n",
    "subs_fxy = fxy.subs({x:5, y:-2})\n",
    "subs_gxy = gxy.subs({x:5, y:-2})\n",
    "subs_mult = subs_fxy * subs_gxy\n",
    "\n",
    "#print\n",
    "display(Math('%g = %g' %(mult_subs,subs_mult)))\n",
    "\n",
    "sym.Eq(mult_subs,subs_mult)\n"
   ]
  }
 ],
 "metadata": {
  "kernelspec": {
   "display_name": "Python 3",
   "language": "python",
   "name": "python3"
  },
  "language_info": {
   "codemirror_mode": {
    "name": "ipython",
    "version": 3
   },
   "file_extension": ".py",
   "mimetype": "text/x-python",
   "name": "python",
   "nbconvert_exporter": "python",
   "pygments_lexer": "ipython3",
   "version": "3.11.9"
  }
 },
 "nbformat": 4,
 "nbformat_minor": 2
}
