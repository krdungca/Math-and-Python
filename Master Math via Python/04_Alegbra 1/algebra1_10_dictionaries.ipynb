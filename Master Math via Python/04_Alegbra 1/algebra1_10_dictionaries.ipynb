{
 "cells": [
  {
   "cell_type": "code",
   "execution_count": 22,
   "metadata": {},
   "outputs": [],
   "source": [
    "import sympy as sym\n",
    "from IPython.display import display,Math\n",
    "sym.init_printing()\n",
    "\n"
   ]
  },
  {
   "cell_type": "code",
   "execution_count": 23,
   "metadata": {},
   "outputs": [
    {
     "data": {
      "text/latex": [
       "$\\displaystyle 2$"
      ],
      "text/plain": [
       "2"
      ]
     },
     "execution_count": 23,
     "metadata": {},
     "output_type": "execute_result"
    }
   ],
   "source": [
    "D = dict(fruit=['banana','apple'],numbers=[1,2,3,4]) #must need a KEY-VALUE pair\n",
    "\n",
    "D\n",
    "\n",
    "D.keys()\n",
    "\n",
    "D['fruit']\n",
    "\n",
    "len(D) #returns number of KEYS"
   ]
  },
  {
   "cell_type": "code",
   "execution_count": 24,
   "metadata": {},
   "outputs": [
    {
     "name": "stdout",
     "output_type": "stream",
     "text": [
      "2 fruit ['banana', 'apple']\n",
      "4 numbers [1, 2, 3, 4]\n"
     ]
    }
   ],
   "source": [
    "D.get('fruit')\n",
    "\n",
    "\n",
    "for items in D:#loops per key\n",
    "    print(len(D[items]),items, D[items]) #custom print"
   ]
  },
  {
   "cell_type": "code",
   "execution_count": 118,
   "metadata": {},
   "outputs": [
    {
     "data": {
      "text/latex": [
       "$\\displaystyle \\mathtt{\\text{Equations for solving X}}$"
      ],
      "text/plain": [
       "<IPython.core.display.Math object>"
      ]
     },
     "metadata": {},
     "output_type": "display_data"
    },
    {
     "data": {
      "text/latex": [
       "$\\displaystyle 4 x = 6 \\Rightarrow x=\\left[ \\frac{3}{2}\\right]$"
      ],
      "text/plain": [
       "<IPython.core.display.Math object>"
      ]
     },
     "metadata": {},
     "output_type": "display_data"
    },
    {
     "data": {
      "text/latex": [
       "$\\displaystyle x^{2} = 9 \\Rightarrow x=\\left[ -3, \\  3\\right]$"
      ],
      "text/plain": [
       "<IPython.core.display.Math object>"
      ]
     },
     "metadata": {},
     "output_type": "display_data"
    },
    {
     "data": {
      "text/latex": [
       "$\\displaystyle \\mathtt{\\text{Equations for solving Y}}$"
      ],
      "text/plain": [
       "<IPython.core.display.Math object>"
      ]
     },
     "metadata": {},
     "output_type": "display_data"
    },
    {
     "data": {
      "text/latex": [
       "$\\displaystyle \\sin{\\left(y \\right)} = 0 \\Rightarrow y=\\left[ 0, \\  \\pi\\right]$"
      ],
      "text/plain": [
       "<IPython.core.display.Math object>"
      ]
     },
     "metadata": {},
     "output_type": "display_data"
    }
   ],
   "source": [
    "#exercise\n",
    "from sympy.abc import x,y\n",
    "\n",
    "eq1x = sym.Eq(4*x,6)\n",
    "eq2x= sym.Eq(x**2,9)\n",
    "eq3y = sym.Eq(sym.sin(y),0)\n",
    "\n",
    "EQS = dict(eq_set1=['Equations for solving X',eq1x,eq2x,eq3y],eq_set1_ans=[sym.solve(eq1x),sym.solve(eq2x),sym.solve(eq3y)])\n",
    "\n",
    "#loop for x-equations\n",
    "for x_item in EQS['eq_set1']:\n",
    "    if EQS['eq_set1'].index(x_item) != 3:\n",
    "        if EQS['eq_set1'].index(x_item) == 0:\n",
    "            display(Math(sym.latex(x_item)))\n",
    "        else:\n",
    "            display(Math('%s \\\\Rightarrow x=%s' %(sym.latex(x_item),sym.latex(EQS['eq_set1_ans'][EQS['eq_set1'].index(x_item)-1]))))\n",
    "\n",
    "    else:\n",
    "        #loop for y-equations\n",
    "        display(Math(sym.latex('Equations for solving Y')))\n",
    "        display(Math('%s \\\\Rightarrow y=%s' %(sym.latex(x_item),sym.latex(EQS['eq_set1_ans'][EQS['eq_set1'].index(x_item)-1]))))\n"
   ]
  },
  {
   "cell_type": "code",
   "execution_count": 137,
   "metadata": {},
   "outputs": [
    {
     "name": "stdout",
     "output_type": "stream",
     "text": [
      "Sol for eq involving x:\n"
     ]
    },
    {
     "data": {
      "text/latex": [
       "$\\displaystyle \\quad \\quad 4 x - 6= 0 \\quad \\Rightarrow \\quad x = \\left[ \\frac{3}{2}\\right]$"
      ],
      "text/plain": [
       "<IPython.core.display.Math object>"
      ]
     },
     "metadata": {},
     "output_type": "display_data"
    },
    {
     "data": {
      "text/latex": [
       "$\\displaystyle \\quad \\quad x^{2} - 9= 0 \\quad \\Rightarrow \\quad x = \\left[ -3, \\  3\\right]$"
      ],
      "text/plain": [
       "<IPython.core.display.Math object>"
      ]
     },
     "metadata": {},
     "output_type": "display_data"
    },
    {
     "name": "stdout",
     "output_type": "stream",
     "text": [
      "Sol for eq involving y:\n"
     ]
    },
    {
     "data": {
      "text/latex": [
       "$\\displaystyle \\quad \\quad \\sin{\\left(y \\right)}= 0 \\quad \\Rightarrow \\quad y = \\left[ 0, \\  \\pi\\right]$"
      ],
      "text/plain": [
       "<IPython.core.display.Math object>"
      ]
     },
     "metadata": {},
     "output_type": "display_data"
    }
   ],
   "source": [
    "D = dict(eqswithx = [4*x-6,x**2-9],eqswithy=[sym.sin(y)])\n",
    "\n",
    "for keyi in D:\n",
    "    print('Sol for eq involving '+ keyi[-1] + ':')\n",
    "\n",
    "    for eqi in D[keyi]:   #keyi is a key value of D\n",
    "        leftpart = sym.latex(eqi) + '= 0 '\n",
    "        midpart = '\\\\quad \\\\Rightarrow \\\\quad '+ keyi[-1] + ' = '\n",
    "        rightpart = sym.latex(sym.solve(eqi))\n",
    "        display(Math('\\\\quad \\\\quad '+leftpart + midpart + rightpart))\n",
    "\n",
    "\n"
   ]
  }
 ],
 "metadata": {
  "kernelspec": {
   "display_name": "Python 3",
   "language": "python",
   "name": "python3"
  },
  "language_info": {
   "codemirror_mode": {
    "name": "ipython",
    "version": 3
   },
   "file_extension": ".py",
   "mimetype": "text/x-python",
   "name": "python",
   "nbconvert_exporter": "python",
   "pygments_lexer": "ipython3",
   "version": "3.11.9"
  }
 },
 "nbformat": 4,
 "nbformat_minor": 2
}
