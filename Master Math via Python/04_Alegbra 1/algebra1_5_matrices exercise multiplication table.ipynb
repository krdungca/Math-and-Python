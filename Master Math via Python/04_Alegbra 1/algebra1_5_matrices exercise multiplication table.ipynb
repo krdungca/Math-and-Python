{
 "cells": [
  {
   "cell_type": "code",
   "execution_count": 52,
   "metadata": {},
   "outputs": [],
   "source": [
    "import sympy as sym\n",
    "from IPython.display import display,Math\n",
    "import numpy as np\n",
    "sym.init_printing()"
   ]
  },
  {
   "cell_type": "code",
   "execution_count": 58,
   "metadata": {},
   "outputs": [
    {
     "data": {
      "text/latex": [
       "$\\displaystyle \\left[\\begin{matrix}1 & 2 & 3 & 4 & 5 & 6 & 7 & 8 & 9 & 10\\\\2 & 4 & 6 & 8 & 10 & 12 & 14 & 16 & 18 & 20\\\\3 & 6 & 9 & 12 & 15 & 18 & 21 & 24 & 27 & 30\\\\4 & 8 & 12 & 16 & 20 & 24 & 28 & 32 & 36 & 40\\\\5 & 10 & 15 & 20 & 25 & 30 & 35 & 40 & 45 & 50\\\\6 & 12 & 18 & 24 & 30 & 36 & 42 & 48 & 54 & 60\\\\7 & 14 & 21 & 28 & 35 & 42 & 49 & 56 & 63 & 70\\\\8 & 16 & 24 & 32 & 40 & 48 & 56 & 64 & 72 & 80\\\\9 & 18 & 27 & 36 & 45 & 54 & 63 & 72 & 81 & 90\\\\10 & 20 & 30 & 40 & 50 & 60 & 70 & 80 & 90 & 100\\end{matrix}\\right]$"
      ],
      "text/plain": [
       "⎡1   2   3   4   5   6   7   8   9   10 ⎤\n",
       "⎢                                       ⎥\n",
       "⎢2   4   6   8   10  12  14  16  18  20 ⎥\n",
       "⎢                                       ⎥\n",
       "⎢3   6   9   12  15  18  21  24  27  30 ⎥\n",
       "⎢                                       ⎥\n",
       "⎢4   8   12  16  20  24  28  32  36  40 ⎥\n",
       "⎢                                       ⎥\n",
       "⎢5   10  15  20  25  30  35  40  45  50 ⎥\n",
       "⎢                                       ⎥\n",
       "⎢6   12  18  24  30  36  42  48  54  60 ⎥\n",
       "⎢                                       ⎥\n",
       "⎢7   14  21  28  35  42  49  56  63  70 ⎥\n",
       "⎢                                       ⎥\n",
       "⎢8   16  24  32  40  48  56  64  72  80 ⎥\n",
       "⎢                                       ⎥\n",
       "⎢9   18  27  36  45  54  63  72  81  90 ⎥\n",
       "⎢                                       ⎥\n",
       "⎣10  20  30  40  50  60  70  80  90  100⎦"
      ]
     },
     "metadata": {},
     "output_type": "display_data"
    }
   ],
   "source": [
    "dimension = 10\n",
    "\n",
    "mat = np.zeros([dimension,dimension])\n",
    "\n",
    "xyset = range(0,dimension)\n",
    "\n",
    "for rowi in xyset:\n",
    "    mat[rowi,0] = int(rowi+1)\n",
    "    for coli in xyset:\n",
    "        mat[0,coli] = int(coli + 1)\n",
    "           \n",
    "new_xyset = range(-1,dimension-1)\n",
    "\n",
    "for add_rowi in new_xyset:\n",
    "    mat[add_rowi,add_rowi] = int((mat[0,add_rowi])*(mat[add_rowi,0]))\n",
    "    \n",
    "    for add_coli in new_xyset:\n",
    "        mat[add_rowi,add_coli+1] = int((mat[0,add_coli+1])*(mat[add_rowi,0]))\n",
    "        \n",
    "display(sym.sympify(mat.astype(int)))\n",
    "\n",
    "\n"
   ]
  },
  {
   "cell_type": "code",
   "execution_count": 60,
   "metadata": {},
   "outputs": [
    {
     "data": {
      "text/latex": [
       "$\\displaystyle \\left[\\begin{matrix}1 & 2 & 3 & 4 & 5 & 6 & 7 & 8 & 9 & 10\\\\2 & 4 & 6 & 8 & 10 & 12 & 14 & 16 & 18 & 20\\\\3 & 6 & 9 & 12 & 15 & 18 & 21 & 24 & 27 & 30\\\\4 & 8 & 12 & 16 & 20 & 24 & 28 & 32 & 36 & 40\\\\5 & 10 & 15 & 20 & 25 & 30 & 35 & 40 & 45 & 50\\\\6 & 12 & 18 & 24 & 30 & 36 & 42 & 48 & 54 & 60\\\\7 & 14 & 21 & 28 & 35 & 42 & 49 & 56 & 63 & 70\\\\8 & 16 & 24 & 32 & 40 & 48 & 56 & 64 & 72 & 80\\\\9 & 18 & 27 & 36 & 45 & 54 & 63 & 72 & 81 & 90\\\\10 & 20 & 30 & 40 & 50 & 60 & 70 & 80 & 90 & 100\\end{matrix}\\right]$"
      ],
      "text/plain": [
       "⎡1   2   3   4   5   6   7   8   9   10 ⎤\n",
       "⎢                                       ⎥\n",
       "⎢2   4   6   8   10  12  14  16  18  20 ⎥\n",
       "⎢                                       ⎥\n",
       "⎢3   6   9   12  15  18  21  24  27  30 ⎥\n",
       "⎢                                       ⎥\n",
       "⎢4   8   12  16  20  24  28  32  36  40 ⎥\n",
       "⎢                                       ⎥\n",
       "⎢5   10  15  20  25  30  35  40  45  50 ⎥\n",
       "⎢                                       ⎥\n",
       "⎢6   12  18  24  30  36  42  48  54  60 ⎥\n",
       "⎢                                       ⎥\n",
       "⎢7   14  21  28  35  42  49  56  63  70 ⎥\n",
       "⎢                                       ⎥\n",
       "⎢8   16  24  32  40  48  56  64  72  80 ⎥\n",
       "⎢                                       ⎥\n",
       "⎢9   18  27  36  45  54  63  72  81  90 ⎥\n",
       "⎢                                       ⎥\n",
       "⎣10  20  30  40  50  60  70  80  90  100⎦"
      ]
     },
     "metadata": {},
     "output_type": "display_data"
    }
   ],
   "source": [
    "nums = range(1,11)\n",
    "\n",
    "matmult = np.zeros([(len(nums)),(len(nums))],dtype=int)\n",
    "\n",
    "for rowi in nums:\n",
    "    for coli in nums:\n",
    "        matmult[rowi-1,coli-1] = rowi*coli\n",
    "display(sym.sympify(matmult))\n"
   ]
  }
 ],
 "metadata": {
  "kernelspec": {
   "display_name": "Python 3",
   "language": "python",
   "name": "python3"
  },
  "language_info": {
   "codemirror_mode": {
    "name": "ipython",
    "version": 3
   },
   "file_extension": ".py",
   "mimetype": "text/x-python",
   "name": "python",
   "nbconvert_exporter": "python",
   "pygments_lexer": "ipython3",
   "version": "3.11.9"
  }
 },
 "nbformat": 4,
 "nbformat_minor": 2
}
