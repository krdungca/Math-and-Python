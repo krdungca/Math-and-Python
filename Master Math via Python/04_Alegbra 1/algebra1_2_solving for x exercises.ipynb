{
 "cells": [
  {
   "cell_type": "code",
   "execution_count": 2,
   "metadata": {},
   "outputs": [],
   "source": [
    "import sympy as sym\n",
    "from IPython.display import display,Math\n",
    "sym.init_printing()"
   ]
  },
  {
   "cell_type": "code",
   "execution_count": 47,
   "metadata": {},
   "outputs": [
    {
     "data": {
      "text/latex": [
       "$\\displaystyle \\left[ \\frac{1}{2} - \\frac{\\sqrt{7}}{2}, \\  \\frac{1}{2} + \\frac{\\sqrt{7}}{2}\\right]$"
      ],
      "text/plain": [
       "⎡1   √7  1   √7⎤\n",
       "⎢─ - ──, ─ + ──⎥\n",
       "⎣2   2   2   2 ⎦"
      ]
     },
     "execution_count": 47,
     "metadata": {},
     "output_type": "execute_result"
    }
   ],
   "source": [
    "#exercise 1\n",
    "\n",
    "#implement eq on sympy\n",
    "#simplify\n",
    "#solve for q\n",
    "\n",
    "q = sym.symbols('q')\n",
    "\n",
    "eq1 = 3*q + (4/q) + 3\n",
    "\n",
    "eq2 = 5*q + (1/q) + 1\n",
    "\n",
    "final_eq = eq1 - eq2\n",
    "\n",
    "sym.solve(final_eq,q)"
   ]
  },
  {
   "cell_type": "code",
   "execution_count": 52,
   "metadata": {},
   "outputs": [
    {
     "data": {
      "text/latex": [
       "$\\displaystyle 3 q^{2} + 2 q - \\frac{5}{q} - \\frac{4}{q^{3}}$"
      ],
      "text/plain": [
       "   2         5   4 \n",
       "3⋅q  + 2⋅q - ─ - ──\n",
       "             q    3\n",
       "                 q "
      ]
     },
     "metadata": {},
     "output_type": "display_data"
    },
    {
     "data": {
      "text/latex": [
       "$\\displaystyle \\frac{3 q^{5} + 2 q^{4} - 5 q^{2} - 4}{q^{3}}$"
      ],
      "text/plain": [
       "   5      4      2    \n",
       "3⋅q  + 2⋅q  - 5⋅q  - 4\n",
       "──────────────────────\n",
       "           3          \n",
       "          q           "
      ]
     },
     "metadata": {},
     "output_type": "display_data"
    }
   ],
   "source": [
    "eq = 2*q + 3*q**2 - 5/q - 4/q**3\n",
    "\n",
    "display(sym.simplify(eq))\n",
    "display(sym.cancel(eq))"
   ]
  },
  {
   "cell_type": "code",
   "execution_count": 73,
   "metadata": {},
   "outputs": [
    {
     "data": {
      "text/latex": [
       "$\\displaystyle \\frac{\\sqrt{15} q + \\sqrt{3}}{\\sqrt{10} q + \\sqrt{2}}$"
      ],
      "text/plain": [
       "√15⋅q + √3\n",
       "──────────\n",
       "√10⋅q + √2"
      ]
     },
     "metadata": {},
     "output_type": "display_data"
    },
    {
     "data": {
      "text/latex": [
       "$\\displaystyle \\frac{\\sqrt{6}}{2}$"
      ],
      "text/plain": [
       "√6\n",
       "──\n",
       "2 "
      ]
     },
     "metadata": {},
     "output_type": "display_data"
    }
   ],
   "source": [
    "expr = (sym.sqrt(3)+(sym.sqrt(15)*q))/((sym.sqrt(2)+(sym.sqrt(10)*q)))\n",
    "\n",
    "expr.subs(q,-83).evalf()   #evalf() --> evaluate function\n",
    "\n",
    "display(expr)\n",
    "display(sym.simplify(expr))\n"
   ]
  }
 ],
 "metadata": {
  "kernelspec": {
   "display_name": "Python 3",
   "language": "python",
   "name": "python3"
  },
  "language_info": {
   "codemirror_mode": {
    "name": "ipython",
    "version": 3
   },
   "file_extension": ".py",
   "mimetype": "text/x-python",
   "name": "python",
   "nbconvert_exporter": "python",
   "pygments_lexer": "ipython3",
   "version": "3.11.9"
  }
 },
 "nbformat": 4,
 "nbformat_minor": 2
}
