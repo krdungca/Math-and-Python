{
 "cells": [
  {
   "cell_type": "code",
   "execution_count": 18,
   "metadata": {},
   "outputs": [],
   "source": [
    "#greatest common denominator (GCF)\n",
    "#largest integer that divides into 2 numbers w/o remainder\n",
    "\n",
    "#gcd(2,4) = 2\n",
    "#gcd(6,15) = 3\n",
    "#gcd (6,17) = 1\n",
    "\n",
    "#GCD is used in reducing fractions!\n",
    "\n",
    "#if gcd(a,b) = c, then a/b = (a/c)*c  /  (b/c)*c\n",
    "\n",
    "#a/b divide both by GCF/GCF = reduced form"
   ]
  },
  {
   "cell_type": "code",
   "execution_count": 70,
   "metadata": {},
   "outputs": [
    {
     "data": {
      "text/latex": [
       "$\\displaystyle 5$"
      ],
      "text/plain": [
       "5"
      ]
     },
     "execution_count": 70,
     "metadata": {},
     "output_type": "execute_result"
    }
   ],
   "source": [
    "import math \n",
    "from IPython.display import display, Math\n",
    "import sympy as sym\n",
    "import numpy as np\n",
    "sym.init_printing()\n",
    "\n",
    "\n",
    "math.gcd(5,50)  #input is integer!"
   ]
  },
  {
   "cell_type": "code",
   "execution_count": 21,
   "metadata": {},
   "outputs": [
    {
     "data": {
      "text/latex": [
       "$\\displaystyle 8$"
      ],
      "text/plain": [
       "8"
      ]
     },
     "execution_count": 21,
     "metadata": {},
     "output_type": "execute_result"
    }
   ],
   "source": [
    "#application\n",
    "\n",
    "a = 16\n",
    "b = 88\n",
    "\n",
    "fact = math.gcd(a,b)\n",
    "\n",
    "fact"
   ]
  },
  {
   "cell_type": "code",
   "execution_count": 69,
   "metadata": {},
   "outputs": [
    {
     "data": {
      "text/latex": [
       "$\\displaystyle gcd(a,b) = c, then \\frac{a}{b} = \\frac{\\frac{a}{c} \\times c}{\\frac{b}{c} \\times c}$"
      ],
      "text/plain": [
       "<IPython.core.display.Math object>"
      ]
     },
     "metadata": {},
     "output_type": "display_data"
    },
    {
     "data": {
      "text/latex": [
       "$\\displaystyle gcd(99,11) = 11 = c$"
      ],
      "text/plain": [
       "<IPython.core.display.Math object>"
      ]
     },
     "metadata": {},
     "output_type": "display_data"
    },
    {
     "data": {
      "text/latex": [
       "$\\displaystyle gcd(c \\times a, c \\times b) = c \\times gcd(a,b)$"
      ],
      "text/plain": [
       "<IPython.core.display.Math object>"
      ]
     },
     "metadata": {},
     "output_type": "display_data"
    },
    {
     "data": {
      "text/latex": [
       "$\\displaystyle gcd(11 \\times 99, 11 \\times 11) = 11 \\times gcd(99,11)$"
      ],
      "text/plain": [
       "<IPython.core.display.Math object>"
      ]
     },
     "metadata": {},
     "output_type": "display_data"
    },
    {
     "data": {
      "text/latex": [
       "$\\displaystyle gcd(1089,121) = 11 \\times gcd(99,11)$"
      ],
      "text/plain": [
       "<IPython.core.display.Math object>"
      ]
     },
     "metadata": {},
     "output_type": "display_data"
    },
    {
     "data": {
      "text/latex": [
       "$\\displaystyle 121 = 11 \\times 11$"
      ],
      "text/plain": [
       "<IPython.core.display.Math object>"
      ]
     },
     "metadata": {},
     "output_type": "display_data"
    },
    {
     "data": {
      "text/latex": [
       "$\\displaystyle 121 = 121$"
      ],
      "text/plain": [
       "<IPython.core.display.Math object>"
      ]
     },
     "metadata": {},
     "output_type": "display_data"
    }
   ],
   "source": [
    "#illustrate using symbolic variables\n",
    "\n",
    "#then show an example with numbers\n",
    "\n",
    "#gcd(ca,cb) = c gcd(a,b)\n",
    "\n",
    "a,b,c = sym.symbols('a b c')\n",
    "\n",
    "#test gcd(99,11)\n",
    "a = 99\n",
    "b = 11\n",
    "\n",
    "c = math.gcd(a,b)\n",
    "\n",
    "lhs = math.gcd((c*a),(c*b))\n",
    "\n",
    "rhs = c* math.gcd(a,b)\n",
    "\n",
    "\n",
    "display(Math('gcd(a,b) = c, then \\\\frac{a}{b} = \\\\frac{\\\\frac{a}{c} \\\\times c}{\\\\frac{b}{c} \\\\times c}'))\n",
    "display(Math('gcd(%s,%s) = %s = c'%(a,b,c)))\n",
    "display(Math('gcd(c \\\\times a, c \\\\times b) = c \\\\times gcd(a,b)'))\n",
    "display(Math('gcd(%s \\\\times %s, %s \\\\times %s) = %s \\\\times gcd(%s,%s)'%(c,a,c,b,c,a,b)))\n",
    "display(Math('gcd(%s,%s) = %s \\\\times gcd(%s,%s)'%(c*a,c*b,c,a,b)))\n",
    "display(Math('%g = %s \\\\times %g'%(math.gcd(c*a,c*b),c,math.gcd(a,b))))\n",
    "display(Math('%g = %g'%(lhs,rhs)))"
   ]
  },
  {
   "cell_type": "code",
   "execution_count": 108,
   "metadata": {},
   "outputs": [
    {
     "data": {
      "text/latex": [
       "$\\displaystyle \\left[\\begin{array}{cccccccccc}1.0 & 1.0 & 1.0 & 1.0 & 1.0 & 1.0 & 1.0 & 1.0 & 1.0 & 1.0 & 1.0 & 1.0 & 1.0 & 1.0 & 1.0\\\\1.0 & 2.0 & 1.0 & 2.0 & 1.0 & 2.0 & 1.0 & 2.0 & 1.0 & 2.0 & 1.0 & 2.0 & 1.0 & 2.0 & 1.0\\\\1.0 & 1.0 & 3.0 & 1.0 & 1.0 & 3.0 & 1.0 & 1.0 & 3.0 & 1.0 & 1.0 & 3.0 & 1.0 & 1.0 & 3.0\\\\1.0 & 2.0 & 1.0 & 4.0 & 1.0 & 2.0 & 1.0 & 4.0 & 1.0 & 2.0 & 1.0 & 4.0 & 1.0 & 2.0 & 1.0\\\\1.0 & 1.0 & 1.0 & 1.0 & 5.0 & 1.0 & 1.0 & 1.0 & 1.0 & 5.0 & 1.0 & 1.0 & 1.0 & 1.0 & 5.0\\\\1.0 & 2.0 & 3.0 & 2.0 & 1.0 & 6.0 & 1.0 & 2.0 & 3.0 & 2.0 & 1.0 & 6.0 & 1.0 & 2.0 & 3.0\\\\1.0 & 1.0 & 1.0 & 1.0 & 1.0 & 1.0 & 7.0 & 1.0 & 1.0 & 1.0 & 1.0 & 1.0 & 1.0 & 7.0 & 1.0\\\\1.0 & 2.0 & 1.0 & 4.0 & 1.0 & 2.0 & 1.0 & 8.0 & 1.0 & 2.0 & 1.0 & 4.0 & 1.0 & 2.0 & 1.0\\\\1.0 & 1.0 & 3.0 & 1.0 & 1.0 & 3.0 & 1.0 & 1.0 & 9.0 & 1.0 & 1.0 & 3.0 & 1.0 & 1.0 & 3.0\\\\1.0 & 2.0 & 1.0 & 2.0 & 5.0 & 2.0 & 1.0 & 2.0 & 1.0 & 10.0 & 1.0 & 2.0 & 1.0 & 2.0 & 5.0\\end{array}\\right]$"
      ],
      "text/plain": [
       "⎡1.0  1.0  1.0  1.0  1.0  1.0  1.0  1.0  1.0  1.0   1.0  1.0  1.0  1.0  1.0⎤\n",
       "⎢                                                                          ⎥\n",
       "⎢1.0  2.0  1.0  2.0  1.0  2.0  1.0  2.0  1.0  2.0   1.0  2.0  1.0  2.0  1.0⎥\n",
       "⎢                                                                          ⎥\n",
       "⎢1.0  1.0  3.0  1.0  1.0  3.0  1.0  1.0  3.0  1.0   1.0  3.0  1.0  1.0  3.0⎥\n",
       "⎢                                                                          ⎥\n",
       "⎢1.0  2.0  1.0  4.0  1.0  2.0  1.0  4.0  1.0  2.0   1.0  4.0  1.0  2.0  1.0⎥\n",
       "⎢                                                                          ⎥\n",
       "⎢1.0  1.0  1.0  1.0  5.0  1.0  1.0  1.0  1.0  5.0   1.0  1.0  1.0  1.0  5.0⎥\n",
       "⎢                                                                          ⎥\n",
       "⎢1.0  2.0  3.0  2.0  1.0  6.0  1.0  2.0  3.0  2.0   1.0  6.0  1.0  2.0  3.0⎥\n",
       "⎢                                                                          ⎥\n",
       "⎢1.0  1.0  1.0  1.0  1.0  1.0  7.0  1.0  1.0  1.0   1.0  1.0  1.0  7.0  1.0⎥\n",
       "⎢                                                                          ⎥\n",
       "⎢1.0  2.0  1.0  4.0  1.0  2.0  1.0  8.0  1.0  2.0   1.0  4.0  1.0  2.0  1.0⎥\n",
       "⎢                                                                          ⎥\n",
       "⎢1.0  1.0  3.0  1.0  1.0  3.0  1.0  1.0  9.0  1.0   1.0  3.0  1.0  1.0  3.0⎥\n",
       "⎢                                                                          ⎥\n",
       "⎣1.0  2.0  1.0  2.0  5.0  2.0  1.0  2.0  1.0  10.0  1.0  2.0  1.0  2.0  5.0⎦"
      ]
     },
     "metadata": {},
     "output_type": "display_data"
    }
   ],
   "source": [
    "#create a matrix , 10rows and 15columns, each element = 99\n",
    "n = 10\n",
    "m = 15\n",
    "mat = np.zeros([n,m])\n",
    "\n",
    "xset = range(0,n)\n",
    "\n",
    "len(xset)\n",
    "\n",
    "for i in range(len(xset)):\n",
    "    for j in range(0,m):\n",
    "        mat[i,j] = 99\n",
    "\n",
    "\n",
    "for i in range(0,n):\n",
    "    for j in range(0,m):\n",
    "        mat[i,j] = math.gcd(i+1,j+1)\n",
    "\n",
    "display(sym.sympify(mat))\n",
    "\n",
    "\n",
    "#populate matrix such that the i-th row and j-th column contains gcd(i+1, j+1)\n",
    "\n"
   ]
  },
  {
   "cell_type": "code",
   "execution_count": 112,
   "metadata": {},
   "outputs": [
    {
     "data": {
      "text/latex": [
       "$\\displaystyle \\left[\\begin{array}{cccccccccc}99 & 99 & 99 & 99 & 99 & 99 & 99 & 99 & 99 & 99 & 99 & 99 & 99 & 99 & 99\\\\99 & 99 & 99 & 99 & 99 & 99 & 99 & 99 & 99 & 99 & 99 & 99 & 99 & 99 & 99\\\\99 & 99 & 99 & 99 & 99 & 99 & 99 & 99 & 99 & 99 & 99 & 99 & 99 & 99 & 99\\\\99 & 99 & 99 & 99 & 99 & 99 & 99 & 99 & 99 & 99 & 99 & 99 & 99 & 99 & 99\\\\99 & 99 & 99 & 99 & 99 & 99 & 99 & 99 & 99 & 99 & 99 & 99 & 99 & 99 & 99\\\\99 & 99 & 99 & 99 & 99 & 99 & 99 & 99 & 99 & 99 & 99 & 99 & 99 & 99 & 99\\\\99 & 99 & 99 & 99 & 99 & 99 & 99 & 99 & 99 & 99 & 99 & 99 & 99 & 99 & 99\\\\99 & 99 & 99 & 99 & 99 & 99 & 99 & 99 & 99 & 99 & 99 & 99 & 99 & 99 & 99\\\\99 & 99 & 99 & 99 & 99 & 99 & 99 & 99 & 99 & 99 & 99 & 99 & 99 & 99 & 99\\\\99 & 99 & 99 & 99 & 99 & 99 & 99 & 99 & 99 & 99 & 99 & 99 & 99 & 99 & 99\\end{array}\\right]$"
      ],
      "text/plain": [
       "⎡99  99  99  99  99  99  99  99  99  99  99  99  99  99  99⎤\n",
       "⎢                                                          ⎥\n",
       "⎢99  99  99  99  99  99  99  99  99  99  99  99  99  99  99⎥\n",
       "⎢                                                          ⎥\n",
       "⎢99  99  99  99  99  99  99  99  99  99  99  99  99  99  99⎥\n",
       "⎢                                                          ⎥\n",
       "⎢99  99  99  99  99  99  99  99  99  99  99  99  99  99  99⎥\n",
       "⎢                                                          ⎥\n",
       "⎢99  99  99  99  99  99  99  99  99  99  99  99  99  99  99⎥\n",
       "⎢                                                          ⎥\n",
       "⎢99  99  99  99  99  99  99  99  99  99  99  99  99  99  99⎥\n",
       "⎢                                                          ⎥\n",
       "⎢99  99  99  99  99  99  99  99  99  99  99  99  99  99  99⎥\n",
       "⎢                                                          ⎥\n",
       "⎢99  99  99  99  99  99  99  99  99  99  99  99  99  99  99⎥\n",
       "⎢                                                          ⎥\n",
       "⎢99  99  99  99  99  99  99  99  99  99  99  99  99  99  99⎥\n",
       "⎢                                                          ⎥\n",
       "⎣99  99  99  99  99  99  99  99  99  99  99  99  99  99  99⎦"
      ]
     },
     "metadata": {},
     "output_type": "display_data"
    }
   ],
   "source": [
    "n= 10\n",
    "m = 15\n",
    "\n",
    "gcdMat = np.zeros([n,m])+99\n",
    "\n",
    "display(sym.sympify(gcdMat.astype(int)))"
   ]
  }
 ],
 "metadata": {
  "kernelspec": {
   "display_name": "Python 3",
   "language": "python",
   "name": "python3"
  },
  "language_info": {
   "codemirror_mode": {
    "name": "ipython",
    "version": 3
   },
   "file_extension": ".py",
   "mimetype": "text/x-python",
   "name": "python",
   "nbconvert_exporter": "python",
   "pygments_lexer": "ipython3",
   "version": "3.11.9"
  }
 },
 "nbformat": 4,
 "nbformat_minor": 2
}
