{
 "cells": [
  {
   "cell_type": "code",
   "execution_count": 58,
   "metadata": {},
   "outputs": [],
   "source": [
    "import sympy as sym\n",
    "from IPython.display import display,Math\n",
    "import numpy as np\n",
    "sym.init_printing()"
   ]
  },
  {
   "cell_type": "code",
   "execution_count": 59,
   "metadata": {},
   "outputs": [],
   "source": [
    "#matrix---> an ordered set of numbers\n",
    "#A = ( -1  0  2  8      )......... a2,1 = (row,column) = 0.... rows and column start at 1 !!!!\n",
    "#       0  1  4  4\n",
    "#       1  4  9  1\n",
    "#use capital letter"
   ]
  },
  {
   "cell_type": "code",
   "execution_count": 60,
   "metadata": {},
   "outputs": [
    {
     "data": {
      "text/latex": [
       "$\\displaystyle \\left[\\begin{matrix}1 & 2\\\\3 & 4\\end{matrix}\\right]$"
      ],
      "text/plain": [
       "⎡1  2⎤\n",
       "⎢    ⎥\n",
       "⎣3  4⎦"
      ]
     },
     "metadata": {},
     "output_type": "display_data"
    }
   ],
   "source": [
    "A = [[1,2],[3,4]]   #defined each row\n",
    "A_new = np.array(A)\n",
    "A_new = sym.sympify(A_new)\n",
    "\n",
    "display(A_new)"
   ]
  },
  {
   "cell_type": "code",
   "execution_count": 61,
   "metadata": {},
   "outputs": [
    {
     "data": {
      "text/plain": [
       "array([[0., 0., 0., 0., 0., 0.],\n",
       "       [0., 0., 0., 0., 0., 0.],\n",
       "       [0., 0., 0., 0., 7., 0.],\n",
       "       [0., 0., 0., 0., 0., 9.]])"
      ]
     },
     "execution_count": 61,
     "metadata": {},
     "output_type": "execute_result"
    }
   ],
   "source": [
    "mat = np.zeros([4,6])\n",
    "\n",
    "mat[2,4]=7 #1st row, 2nd column =  2\n",
    "mat[3,5]=9\n",
    "mat"
   ]
  },
  {
   "cell_type": "code",
   "execution_count": 62,
   "metadata": {},
   "outputs": [
    {
     "data": {
      "text/plain": [
       "array([[1., 2., 3., 4., 5., 6.],\n",
       "       [1., 2., 3., 4., 5., 6.],\n",
       "       [1., 2., 3., 4., 5., 6.],\n",
       "       [1., 2., 3., 4., 5., 6.],\n",
       "       [1., 2., 3., 4., 5., 6.],\n",
       "       [1., 2., 3., 4., 5., 6.]])"
      ]
     },
     "execution_count": 62,
     "metadata": {},
     "output_type": "execute_result"
    }
   ],
   "source": [
    "mat = np.zeros([6,6])\n",
    "numrange = range(0,6)\n",
    "\n",
    "# for rowi in numrange:\n",
    "#     for columni in numrange:\n",
    "#         mat[rowi,columni] = (-1)**(rowi+columni)\n",
    "\n",
    "for rowi in numrange:\n",
    "        for columni in numrange:\n",
    "            mat[rowi,columni] = columni+1\n",
    "\n",
    "\n",
    "mat"
   ]
  },
  {
   "cell_type": "code",
   "execution_count": 68,
   "metadata": {},
   "outputs": [
    {
     "data": {
      "text/latex": [
       "$\\displaystyle \\left[\\begin{matrix}8.0 & 4.0 & 0.0\\\\10.0 & 5.0 & 0.0\\\\12.0 & 6.0 & 0.0\\end{matrix}\\right]$"
      ],
      "text/plain": [
       "⎡8.0   4.0  0.0⎤\n",
       "⎢              ⎥\n",
       "⎢10.0  5.0  0.0⎥\n",
       "⎢              ⎥\n",
       "⎣12.0  6.0  0.0⎦"
      ]
     },
     "metadata": {},
     "output_type": "display_data"
    }
   ],
   "source": [
    "from sympy.abc import x,y\n",
    "\n",
    "xyset = range (0,3)\n",
    "\n",
    "mat=np.zeros([len(xyset),len(xyset)])\n",
    "\n",
    "def function1(x,y):\n",
    "    ans = (4+x)*(2-y)\n",
    "    ans_expanded = sym.expand(ans)\n",
    "    return int(sym.simplify(ans_expanded))\n",
    "\n",
    "for i in xyset:\n",
    "    for j in xyset:\n",
    "        mat[i,j] = function1(i,j)\n",
    "               \n",
    "display(sym.sympify(mat))\n",
    "\n",
    "\n",
    "\n",
    "\n"
   ]
  }
 ],
 "metadata": {
  "kernelspec": {
   "display_name": "Python 3",
   "language": "python",
   "name": "python3"
  },
  "language_info": {
   "codemirror_mode": {
    "name": "ipython",
    "version": 3
   },
   "file_extension": ".py",
   "mimetype": "text/x-python",
   "name": "python",
   "nbconvert_exporter": "python",
   "pygments_lexer": "ipython3",
   "version": "3.11.9"
  }
 },
 "nbformat": 4,
 "nbformat_minor": 2
}
