{
 "cells": [
  {
   "cell_type": "code",
   "execution_count": 3,
   "metadata": {},
   "outputs": [],
   "source": [
    "import sympy as sym\n",
    "\n",
    "from IPython.display import display,Math"
   ]
  },
  {
   "cell_type": "code",
   "execution_count": 4,
   "metadata": {},
   "outputs": [
    {
     "data": {
      "text/latex": [
       "$\\displaystyle 2 x^{2} + 1$"
      ],
      "text/plain": [
       "2*x**2 + 1"
      ]
     },
     "metadata": {},
     "output_type": "display_data"
    }
   ],
   "source": [
    "x,y,z = sym.symbols('x y z')\n",
    "\n",
    "p1 = 4*x**5 - x \n",
    "p2 = 2*x**3 - x\n",
    "\n",
    "display(sym.simplify(p1/p2))"
   ]
  },
  {
   "cell_type": "code",
   "execution_count": 6,
   "metadata": {},
   "outputs": [
    {
     "data": {
      "text/latex": [
       "$\\displaystyle \\frac{x^{6} + 2 x^{4} + 6 x - y}{x^{3} + 3}$"
      ],
      "text/plain": [
       "<IPython.core.display.Math object>"
      ]
     },
     "metadata": {},
     "output_type": "display_data"
    },
    {
     "name": "stdout",
     "output_type": "stream",
     "text": [
      "5\n",
      "6\n",
      "7\n",
      "8\n",
      "y = 9 eliminates the numerator\n",
      "9\n",
      "10\n",
      "11\n",
      "12\n",
      "13\n",
      "14\n",
      "15\n"
     ]
    }
   ],
   "source": [
    "#find the value of y that eliminates the denominator\n",
    "#use sym.fraction()\n",
    "\n",
    "nmrtr = x**6 + 2*x**4 + 6*x - y\n",
    "dnmtr = x**3 + 3\n",
    "\n",
    "yval = range(5,16)\n",
    "\n",
    "display(Math('\\\\frac{%s}{%s}' %(sym.latex(nmrtr),sym.latex(dnmtr))))\n",
    "\n",
    "for y_sub in yval:\n",
    "    nmrtr_sub = nmrtr.subs(y,y_sub)\n",
    "    frac_simp = sym.simplify(nmrtr_sub/dnmtr)\n",
    "\n",
    "    if sym.fraction(frac_simp)[1] == 1:\n",
    "        \n",
    "        print('y = %g eliminates the numerator'%y_sub)\n",
    "\n",
    "\n",
    "   "
   ]
  }
 ],
 "metadata": {
  "kernelspec": {
   "display_name": "Python 3",
   "language": "python",
   "name": "python3"
  },
  "language_info": {
   "codemirror_mode": {
    "name": "ipython",
    "version": 3
   },
   "file_extension": ".py",
   "mimetype": "text/x-python",
   "name": "python",
   "nbconvert_exporter": "python",
   "pygments_lexer": "ipython3",
   "version": "3.11.9"
  }
 },
 "nbformat": 4,
 "nbformat_minor": 2
}
